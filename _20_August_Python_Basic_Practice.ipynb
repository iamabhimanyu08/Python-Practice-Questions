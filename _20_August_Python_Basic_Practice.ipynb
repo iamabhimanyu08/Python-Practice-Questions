{
 "cells": [
  {
   "cell_type": "markdown",
   "metadata": {},
   "source": [
    "## String Based Practice Problem"
   ]
  },
  {
   "cell_type": "markdown",
   "metadata": {},
   "source": [
    "### Question 1: Write a program to reverse a string."
   ]
  },
  {
   "cell_type": "code",
   "execution_count": 1,
   "metadata": {},
   "outputs": [
    {
     "name": "stdout",
     "output_type": "stream",
     "text": [
      "Enter a string: hello, my name is abhimanyu sharma\n",
      "Reversed string: amrahs uynamihba si eman ym ,olleh\n"
     ]
    }
   ],
   "source": [
    "def reverse_string(input_string):\n",
    "        reversed_string = input_string[::-1]              # Use string slicing to reverse the string\n",
    "        return reversed_string\n",
    "\n",
    "# Input string\n",
    "input_string = input(\"Enter a string: \")\n",
    "\n",
    "result = reverse_string(input_string)                    # Call the function to reverse the string\n",
    "\n",
    "print(\"Reversed string:\", result)                        # Display the reversed string\n"
   ]
  },
  {
   "cell_type": "markdown",
   "metadata": {},
   "source": [
    "### Question 2: Check if a string is a palindrome."
   ]
  },
  {
   "cell_type": "code",
   "execution_count": 2,
   "metadata": {},
   "outputs": [
    {
     "name": "stdout",
     "output_type": "stream",
     "text": [
      "Enter a string: civic\n",
      "The string is a palindrome.\n"
     ]
    }
   ],
   "source": [
    "\n",
    "def is_palindrome(input_string):       # Remove spaces and convert the input string to lowercase for case-insensitive comparison\n",
    "    cleaned_string = input_string.replace(\" \", \"\").lower()\n",
    "    \n",
    "    return cleaned_string == cleaned_string[::-1]   # Compare the cleaned string with its reverse\n",
    "\n",
    "# Input string\n",
    "input_string = input(\"Enter a string: \")\n",
    "\n",
    "if is_palindrome(input_string):                     # Check if it's a palindrome\n",
    "    print(\"The string is a palindrome.\")\n",
    "else:\n",
    "    print(\"The string is not a palindrome.\")"
   ]
  },
  {
   "cell_type": "markdown",
   "metadata": {},
   "source": [
    "### Question 3: Convert a string to uppercase."
   ]
  },
  {
   "cell_type": "code",
   "execution_count": 3,
   "metadata": {},
   "outputs": [
    {
     "name": "stdout",
     "output_type": "stream",
     "text": [
      "Enter a string: hello, my name is abhimanyu sharma\n",
      "Cleaned_string: HELLO, MY NAME IS ABHIMANYU SHARMA\n"
     ]
    }
   ],
   "source": [
    "def clean_string(input_string):\n",
    "        cleaned_string = input_string.upper()              # Use upper function to reverse the string\n",
    "        return cleaned_string\n",
    "\n",
    "# Input string\n",
    "input_string = input(\"Enter a string: \")\n",
    "\n",
    "result = clean_string(input_string)                     # Call the function to clean the string\n",
    "\n",
    "print(\"Cleaned_string:\", result)                        # Display the Cleaned string\n",
    "\n"
   ]
  },
  {
   "cell_type": "markdown",
   "metadata": {},
   "source": [
    "### Question 4: Convert a string to lowercase."
   ]
  },
  {
   "cell_type": "code",
   "execution_count": 4,
   "metadata": {},
   "outputs": [
    {
     "name": "stdout",
     "output_type": "stream",
     "text": [
      "Enter a string: HELLO, MY NAME IS ABHIMANYU SHARMA AND I AM PRACTICING PYTHON\n",
      "Cleaned_string: hello, my name is abhimanyu sharma and i am practicing python\n"
     ]
    }
   ],
   "source": [
    "def clean_string(input_string):\n",
    "        cleaned_string = input_string.lower()              # Use lower function to reverse the string\n",
    "        return cleaned_string\n",
    "\n",
    "# Input string\n",
    "input_string = input(\"Enter a string: \")\n",
    "\n",
    "result = clean_string(input_string)                     # Call the function to lower the string\n",
    "\n",
    "print(\"Cleaned_string:\", result)                        # Display the Cleaned string\n"
   ]
  },
  {
   "cell_type": "markdown",
   "metadata": {},
   "source": [
    "### Question 5: Count the number of vowels in a string.\n"
   ]
  },
  {
   "cell_type": "code",
   "execution_count": 5,
   "metadata": {},
   "outputs": [
    {
     "name": "stdout",
     "output_type": "stream",
     "text": [
      "Enter a string: hello, my name is abhimanyu sharma\n",
      "Number of vowels in the string: 11\n"
     ]
    }
   ],
   "source": [
    "def count_vowels(input_string):\n",
    "    vowels = \"aeiouAEIOU\"              # Define a set of vowels\n",
    "    \n",
    "    vowel_count = 0                    # Initialize a variable to count the vowels\n",
    "    \n",
    "    for char in input_string:          # Iterate through each character in the input string\n",
    "         if char in vowels:            # Check if the character is a vowel\n",
    "            vowel_count += 1\n",
    "    \n",
    "    return vowel_count\n",
    "\n",
    "input_string = input(\"Enter a string: \")  # Input string\n",
    "\n",
    "vowel_count = count_vowels(input_string)  # Call the function to count vowels\n",
    "\n",
    "print(\"Number of vowels in the string:\", vowel_count) # Display the result"
   ]
  },
  {
   "cell_type": "markdown",
   "metadata": {},
   "source": [
    "### Question 6: Count the number of consonants in a string."
   ]
  },
  {
   "cell_type": "code",
   "execution_count": 6,
   "metadata": {},
   "outputs": [
    {
     "name": "stdout",
     "output_type": "stream",
     "text": [
      "Enter a string: hello, my name is abhimanyu sharma\n",
      "Number of consonants in the string: 17\n"
     ]
    }
   ],
   "source": [
    "def count_consonants(input_string):\n",
    "    vowels = \"aeiouAEIOU\"              # Define a set of vowels\n",
    "    \n",
    "    consonants_count = 0               # Initialize a variable to count the consonants\n",
    "    \n",
    "    for char in input_string:          # Iterate through each character in the input string\n",
    "         \n",
    "        if char.isalpha() and char not in vowels:            # Check if the character is not a vowel\n",
    "            consonants_count += 1\n",
    "    \n",
    "    return consonants_count\n",
    "\n",
    "input_string = input(\"Enter a string: \")  # Input string\n",
    "\n",
    "consonants_count = count_consonants(input_string)  # Call the function to count vowels\n",
    "\n",
    "print(\"Number of consonants in the string:\", consonants_count) # Display the result"
   ]
  },
  {
   "cell_type": "markdown",
   "metadata": {},
   "source": [
    "### Question 7: Remove all whitespaces from a string."
   ]
  },
  {
   "cell_type": "code",
   "execution_count": 7,
   "metadata": {},
   "outputs": [
    {
     "name": "stdout",
     "output_type": "stream",
     "text": [
      "Enter a string:hello, my name is abhimanyu sharma\n",
      "Final String without whitespaces:  hello,mynameisabhimanyusharma\n"
     ]
    }
   ],
   "source": [
    "def remove_whitespaces(input_string):\n",
    "    \n",
    "    cleaned_string= input_string.replace(\" \",\"\")   # Function to remove the whitespaces from the string\n",
    "    \n",
    "    return cleaned_string                          # Return the cleaned string\n",
    "\n",
    "input_string= input(\"Enter a string:\")             # Enter the input from the user in form of string\n",
    "\n",
    "result= remove_whitespaces(input_string)            # Apply the function to the input string\n",
    "\n",
    "print(\"Final String without whitespaces: \", result)  # Print the final result"
   ]
  },
  {
   "cell_type": "markdown",
   "metadata": {},
   "source": [
    "### Question 8: Find the length of a string without using the `len()` function."
   ]
  },
  {
   "cell_type": "code",
   "execution_count": 8,
   "metadata": {},
   "outputs": [
    {
     "name": "stdout",
     "output_type": "stream",
     "text": [
      "Enter a string: hello, my name is abhimanyu sharma\n",
      "The Length of the string:  34\n"
     ]
    }
   ],
   "source": [
    "def string_length(input_string):    # Define the function to calculate the string length\n",
    "    \n",
    "    length=0                        # Initialise the variable to count total characters\n",
    "    \n",
    "    for char in input_string:       # Iteration of each character in the string\n",
    "        \n",
    "        length +=1                  # Increase the count by 1 \n",
    "    \n",
    "    return length                   # Return the final length of the string\n",
    "\n",
    "input_string = input(\"Enter a string: \")  # Enter the input from the user in form of string\n",
    "\n",
    "length = string_length(input_string) # Apply the function to find the length of the input string\n",
    "\n",
    "print(\"The Length of the string: \", length) # Print the final result"
   ]
  },
  {
   "cell_type": "markdown",
   "metadata": {},
   "source": [
    "### Question 9: Check if a string contains a specific word."
   ]
  },
  {
   "cell_type": "code",
   "execution_count": 9,
   "metadata": {},
   "outputs": [
    {
     "name": "stdout",
     "output_type": "stream",
     "text": [
      "Enter a string: hello, my name is abhimanyu sharma\n",
      "Enter the word need to check in the string : ABHIMANYU\n",
      "The string contains the word 'abhimanyu'.\n"
     ]
    }
   ],
   "source": [
    "input_string = input(\"Enter a string: \").lower()  # Input the string\n",
    "\n",
    "specific_word = input(\"Enter the word need to check in the string : \").lower()\n",
    "\n",
    "if specific_word in input_string:     # Check if the specific word is in the input string\n",
    "    print(f\"The string contains the word '{specific_word}'.\")\n",
    "else:\n",
    "    print(f\"The string does not contain the word '{specific_word}'.\")"
   ]
  },
  {
   "cell_type": "markdown",
   "metadata": {},
   "source": [
    "### Question 10: Replace a word in a string with another word."
   ]
  },
  {
   "cell_type": "code",
   "execution_count": 10,
   "metadata": {},
   "outputs": [
    {
     "name": "stdout",
     "output_type": "stream",
     "text": [
      "Enter a string: hello, my name is abhimanyu sharma and i am practicing python\n",
      "Enter the word which need to replace: abhimanyu\n",
      "Enter the new word: abhi\n",
      "String with new_word : hello, my name is abhi sharma and i am practicing python\n"
     ]
    }
   ],
   "source": [
    "def replace_word(input_string, word, new_word):\n",
    "    \n",
    "    replaced_string = input_string.replace(word, new_word) # Use the replace() method to replace old_word with new_word\n",
    "    \n",
    "    return replaced_string\n",
    "\n",
    "# Input string\n",
    "input_string = input(\"Enter a string: \").lower()\n",
    "\n",
    "word = input(\"Enter the word which need to replace: \")  # Enter the which need to replace\n",
    "\n",
    "new_word = input(\"Enter the new word: \")   # Enter the new word which should be replaced with old word\n",
    "\n",
    "result = replace_word(input_string, word, new_word) # Call the function to replace the word in the string\n",
    "\n",
    "# Display the result\n",
    "print(\"String with new_word :\", result)"
   ]
  },
  {
   "cell_type": "markdown",
   "metadata": {},
   "source": [
    "### Question 11: Count the occurrences of a word in a string."
   ]
  },
  {
   "cell_type": "code",
   "execution_count": 11,
   "metadata": {},
   "outputs": [
    {
     "name": "stdout",
     "output_type": "stream",
     "text": [
      "Enter a string: hello, my name is abhimanyu sharma\n",
      "Enter the word to count: abhimanyu\n",
      "The word 'abhimanyu' occurs 1 times in the string.\n"
     ]
    }
   ],
   "source": [
    "def count_word_occurrences(input_string, target_word):\n",
    "    # Split the input string into words\n",
    "    words = input_string.split()\n",
    "    \n",
    "    # Initialize a variable to count occurrences\n",
    "    count = 0\n",
    "    \n",
    "    # Iterate through the words and count matches\n",
    "    for word in words:\n",
    "        if word == target_word:\n",
    "            count += 1\n",
    "    \n",
    "    return count\n",
    "\n",
    "# Input string\n",
    "input_string = input(\"Enter a string: \").lower()\n",
    "\n",
    "# Target word to count occurrences\n",
    "target_word = input(\"Enter the word to count: \")\n",
    "\n",
    "# Call the function to count occurrences of the word in the string\n",
    "occurrences = count_word_occurrences(input_string, target_word)\n",
    "\n",
    "# Display the result\n",
    "print(f\"The word '{target_word}' occurs {occurrences} times in the string.\")\n"
   ]
  },
  {
   "cell_type": "markdown",
   "metadata": {},
   "source": [
    "### Question 12. Find the first occurrence of a word in a string."
   ]
  },
  {
   "cell_type": "code",
   "execution_count": 12,
   "metadata": {},
   "outputs": [
    {
     "name": "stdout",
     "output_type": "stream",
     "text": [
      "Plese enter the stringhello, my name is abhimanyu sharma \n",
      "Please enter the word to find in the stringabhimanyu\n",
      "The word 'abhimanyu' was found at position 18.\n"
     ]
    }
   ],
   "source": [
    "text = input(\"Plese enter the string\").lower()                              # Enter the string \n",
    "word = input(\"Please enter the word to find in the string\").lower()\n",
    "\n",
    "position = text.find(word)    # Find the first occurrence of the word\n",
    "\n",
    "if position != -1:\n",
    "    print(f\"The word '{word}' was found at position {position}.\")\n",
    "else:\n",
    "    print(f\"The word '{word}' was not found in the text.\")"
   ]
  },
  {
   "cell_type": "markdown",
   "metadata": {},
   "source": [
    "### Question 13. Find the last occurrence of a word in a string."
   ]
  },
  {
   "cell_type": "code",
   "execution_count": 13,
   "metadata": {},
   "outputs": [
    {
     "name": "stdout",
     "output_type": "stream",
     "text": [
      "Plese enter the stringhello, my name is abhimanyu sharma and i am practicing python\n",
      "Please enter the word to find in the stringpython\n",
      "The word 'python' was found at position 55.\n"
     ]
    }
   ],
   "source": [
    "text = input(\"Plese enter the string\").lower()                             # Enter the string \n",
    "word = input(\"Please enter the word to find in the string\"  ).lower()\n",
    "\n",
    "position = text.rfind(word)                                        # Find the last occurrence of the word\n",
    "\n",
    "if position != -1:\n",
    "    print(f\"The word '{word}' was found at position {position}.\")\n",
    "else:\n",
    "    print(f\"The word '{word}' was not found in the text.\")"
   ]
  },
  {
   "cell_type": "markdown",
   "metadata": {},
   "source": [
    "### Question 14. Split a string into a list of words."
   ]
  },
  {
   "cell_type": "code",
   "execution_count": 14,
   "metadata": {},
   "outputs": [
    {
     "name": "stdout",
     "output_type": "stream",
     "text": [
      " Please enter the string hello, my name is abhimanyu sharma\n",
      "The final output of the string is ['hello,', 'my', 'name', 'is', 'abhimanyu', 'sharma'] .\n"
     ]
    }
   ],
   "source": [
    "text = input (\" Please enter the string \").lower()\n",
    "word_set = text.split()\n",
    "print(f\"The final output of the string is {word_set} .\" )"
   ]
  },
  {
   "cell_type": "markdown",
   "metadata": {},
   "source": [
    "### Question 15. Join a list of words into a string."
   ]
  },
  {
   "cell_type": "code",
   "execution_count": 15,
   "metadata": {},
   "outputs": [
    {
     "name": "stdout",
     "output_type": "stream",
     "text": [
      " The final output is I am Abhimanyu Sharma and i am practicing python.\n"
     ]
    }
   ],
   "source": [
    "word_set= ['I', 'am', 'Abhimanyu','Sharma', 'and','i', 'am','practicing','python']  \n",
    "String_1 = \" \".join(word_set)\n",
    "print(f\" The final output is {String_1}.\")"
   ]
  },
  {
   "cell_type": "markdown",
   "metadata": {},
   "source": [
    "### Question 16. Convert a string where words are separated by spaces to one where words are separated by underscores."
   ]
  },
  {
   "cell_type": "code",
   "execution_count": 16,
   "metadata": {},
   "outputs": [
    {
     "name": "stdout",
     "output_type": "stream",
     "text": [
      " Please enter the string hello, my name is abhimanyu sharma and i am practicing python\n",
      " The final output is hello,_my_name_is_abhimanyu_sharma_and_i_am_practicing_python.\n"
     ]
    }
   ],
   "source": [
    "text = input (\" Please enter the string \").lower()\n",
    "Final_String = text.replace(\" \", \"_\")\n",
    "print(f\" The final output is {Final_String}.\")"
   ]
  },
  {
   "cell_type": "markdown",
   "metadata": {},
   "source": [
    "### Question 17. Check if a string starts with a specific word or phrase."
   ]
  },
  {
   "cell_type": "code",
   "execution_count": 17,
   "metadata": {},
   "outputs": [
    {
     "name": "stdout",
     "output_type": "stream",
     "text": [
      " Please enter the string hello, my name is abhimanyu \n",
      " Please enter the word to check in the string name\n",
      "The String does not start with name. \n"
     ]
    }
   ],
   "source": [
    "string_1 = input (\" Please enter the string \").lower()\n",
    "check_word = input(\" Please enter the word to check in the string \" ).lower()\n",
    "\n",
    "if string_1.startswith(check_word):\n",
    "    print(f\"The string starts with {check_word}. \")\n",
    "    \n",
    "else:\n",
    "    print(f\"The String does not start with {check_word}. \")\n",
    "    "
   ]
  },
  {
   "cell_type": "markdown",
   "metadata": {},
   "source": [
    "### Question 18. Check if a string ends with a specific word or phrase."
   ]
  },
  {
   "cell_type": "code",
   "execution_count": 18,
   "metadata": {},
   "outputs": [
    {
     "name": "stdout",
     "output_type": "stream",
     "text": [
      " Please enter the string hello, my name is abhimanyu sharma\n",
      " Please enter the word to check in the string hello\n",
      "The String does not ends with hello. \n"
     ]
    }
   ],
   "source": [
    "string_1 = input (\" Please enter the string \").lower()\n",
    "check_word = input(\" Please enter the word to check in the string \" ).lower()\n",
    "\n",
    "if string_1.endswith(check_word):\n",
    "    print(f\"The string ends with {check_word}. \")\n",
    "    \n",
    "else:\n",
    "    print(f\"The String does not ends with {check_word}. \")"
   ]
  },
  {
   "cell_type": "markdown",
   "metadata": {},
   "source": [
    "### Question 19. Convert a string to title case (e.g., \"hello world\" to \"Hello World\")."
   ]
  },
  {
   "cell_type": "code",
   "execution_count": 20,
   "metadata": {},
   "outputs": [
    {
     "name": "stdout",
     "output_type": "stream",
     "text": [
      "The final output of the string is Hello World.\n"
     ]
    }
   ],
   "source": [
    "string_1=\"hello world\"        # Entering string or sentence\n",
    "final_string = string_1.title()    # Title function will make the first letter capital of each word\n",
    "print(f\"The final output of the string is {final_string}.\")"
   ]
  },
  {
   "cell_type": "markdown",
   "metadata": {},
   "source": [
    "### Question 20. Find the longest word in a string."
   ]
  },
  {
   "cell_type": "code",
   "execution_count": 22,
   "metadata": {},
   "outputs": [
    {
     "name": "stdout",
     "output_type": "stream",
     "text": [
      "Please enter the sentence:hello, my name is abhimanyu sharma\n",
      "The longest word in the given sentence is 'abhimanyu'.\n"
     ]
    }
   ],
   "source": [
    "string_1=input(\"Please enter the sentence:\").lower()   # Enter the Sentence\n",
    "\n",
    "word_set = string_1.split()     # Splitting the string into sets of words\n",
    "\n",
    "longest_word = \"\"\n",
    "max_length = 0                    # Initialisation of the variables\n",
    "\n",
    "for word in word_set:             # for loop to iterate each word in the given sentence\n",
    "    if len(word)>max_length:     \n",
    "        max_length = len(word)\n",
    "        longest_word=word\n",
    "        \n",
    "print(f\"The longest word in the given sentence is '{longest_word}'.\")\n"
   ]
  },
  {
   "cell_type": "markdown",
   "metadata": {},
   "source": [
    "### Question 21. Find the shortest word in a string."
   ]
  },
  {
   "cell_type": "code",
   "execution_count": 23,
   "metadata": {},
   "outputs": [
    {
     "name": "stdout",
     "output_type": "stream",
     "text": [
      "Please enter the sentence:hello, my name is abhimanyu sharma\n",
      "The shortest word in the given sentence is 'my'.\n"
     ]
    }
   ],
   "source": [
    "string_1=input(\"Please enter the sentence:\").lower()   # Enter the Sentence\n",
    "\n",
    "word_set = string_1.split()     # Splitting the string into sets of words\n",
    "\n",
    "shortest_word = \"\"\n",
    "min_length = float('inf')                    # Initialisation of the variables\n",
    "\n",
    "for word in word_set:             # for loop to iterate each word in the given sentence\n",
    "    if len(word)<min_length:     \n",
    "        min_length = len(word)\n",
    "        shortest_word=word\n",
    "        \n",
    "print(f\"The shortest word in the given sentence is '{shortest_word}'.\")\n"
   ]
  },
  {
   "cell_type": "markdown",
   "metadata": {},
   "source": [
    "### Question 22. Reverse the order of words in a string."
   ]
  },
  {
   "cell_type": "code",
   "execution_count": 25,
   "metadata": {},
   "outputs": [
    {
     "name": "stdout",
     "output_type": "stream",
     "text": [
      "Please enter the sentence:hello, my name is abhimanyu sharma\n",
      " The final output of the string is 'sharma abhimanyu is name my hello,'.\n"
     ]
    }
   ],
   "source": [
    "string_1=input(\"Please enter the sentence:\").lower()   # Enter the Sentence to reverse\n",
    "\n",
    "word_set = string_1.split()\n",
    "\n",
    "reverse_word=word_set[::-1]\n",
    "\n",
    "reverse_string = \" \".join(reverse_word)\n",
    "\n",
    "print(f\" The final output of the string is '{reverse_string}'.\")"
   ]
  },
  {
   "cell_type": "markdown",
   "metadata": {},
   "source": [
    "### Question 23. Check if a string is alphanumeric."
   ]
  },
  {
   "cell_type": "code",
   "execution_count": 26,
   "metadata": {},
   "outputs": [
    {
     "name": "stdout",
     "output_type": "stream",
     "text": [
      "Please enter any type of stringhello, my name is abhimanyu sharma\n",
      "The entered string is not alphanumeric.\n"
     ]
    }
   ],
   "source": [
    "string_1=input('Please enter any type of string').lower()   # Enter the sentence\n",
    "\n",
    "if string_1.isalnum():                                      # If else condition to check the type of string \n",
    "    print(\"The entered string is alphanumeric.\")\n",
    "else:\n",
    "    print(\"The entered string is not alphanumeric.\")    # Print the final result based on the string\n",
    "    "
   ]
  },
  {
   "cell_type": "markdown",
   "metadata": {},
   "source": [
    "### Question 24. Extract all digits from a string."
   ]
  },
  {
   "cell_type": "code",
   "execution_count": 27,
   "metadata": {},
   "outputs": [
    {
     "name": "stdout",
     "output_type": "stream",
     "text": [
      "Please enter any type of string: hello, my name is abhimanyu sharma and i am 33 years old\n",
      "The total digit in the string is : '33'. \n"
     ]
    }
   ],
   "source": [
    "import re    # Importing the regular expression library \n",
    "\n",
    "string_1=input('Please enter any type of string: ').lower()   # Enter the sentence\n",
    "\n",
    "digits = re.findall(r'\\d', string_1)     # This function will extract the digits from the string\n",
    "\n",
    "all_digit = ''.join(digits)\n",
    "\n",
    "print(f\"The total digit in the string is : '{all_digit}'. \")"
   ]
  },
  {
   "cell_type": "markdown",
   "metadata": {},
   "source": [
    "### Question 25. Extract all alphabets from a string."
   ]
  },
  {
   "cell_type": "code",
   "execution_count": 28,
   "metadata": {},
   "outputs": [
    {
     "name": "stdout",
     "output_type": "stream",
     "text": [
      "Please enter any type of string: hello, my name is abhimanyu sharma and i am 33 years old\n",
      "The total alphabet in the string is : 'hellomynameisabhimanyusharmaandiamyearsold'. \n"
     ]
    }
   ],
   "source": [
    "import re    # Importing the regular expression library \n",
    "\n",
    "string_1=input('Please enter any type of string: ').lower()   # Enter the sentence\n",
    "\n",
    "alphabets = re.findall(r'[a-zA-Z]', string_1)     # This function will extract the digits from the string\n",
    "\n",
    "all_alphabets = ''.join(alphabets)\n",
    "\n",
    "print(f\"The total alphabet in the string is : '{all_alphabets}'. \")"
   ]
  },
  {
   "cell_type": "markdown",
   "metadata": {},
   "source": [
    "### Question 26. Count the number of uppercase letters in a string."
   ]
  },
  {
   "cell_type": "code",
   "execution_count": 29,
   "metadata": {},
   "outputs": [
    {
     "name": "stdout",
     "output_type": "stream",
     "text": [
      "Please enter any type of string: hello, my name is abhimanyu sharma\n",
      "The total number of uppercase alphabet is : '0'.\n"
     ]
    }
   ],
   "source": [
    "string_1=input('Please enter any type of string: ')   # Enter the sentence\n",
    "\n",
    "uppercase_count = 0    # Initialising the varibale for counting \n",
    "\n",
    "for char in string_1:     # for loop to iterate every word in string\n",
    "    if char.isupper():\n",
    "        uppercase_count += 1\n",
    "print (f\"The total number of uppercase alphabet is : '{uppercase_count}'.\")   # Printing the final result"
   ]
  },
  {
   "cell_type": "markdown",
   "metadata": {},
   "source": [
    "### Question 27. Count the number of lowercase letters in a string."
   ]
  },
  {
   "cell_type": "code",
   "execution_count": 30,
   "metadata": {},
   "outputs": [
    {
     "name": "stdout",
     "output_type": "stream",
     "text": [
      "Please enter any type of string: hello, my name is abhimanyu sharma\n",
      "The total number of lowercase alphabet is : '28'.\n"
     ]
    }
   ],
   "source": [
    "string_1=input('Please enter any type of string: ')   # Enter the sentence\n",
    "\n",
    "lowercase_count = 0    # Initialising the varibale for counting \n",
    "\n",
    "for char in string_1:     # for loop to iterate every word in string\n",
    "    if char.islower():\n",
    "        lowercase_count += 1\n",
    "print (f\"The total number of lowercase alphabet is : '{lowercase_count}'.\")   # Printing the final result"
   ]
  },
  {
   "cell_type": "markdown",
   "metadata": {},
   "source": [
    "### Question 28. Swap the case of each character in a string."
   ]
  },
  {
   "cell_type": "code",
   "execution_count": 32,
   "metadata": {},
   "outputs": [
    {
     "name": "stdout",
     "output_type": "stream",
     "text": [
      "Please enter any type of string: hello, my name is abhimanyu sharma AND I AM PRACTICING PYTHON\n",
      " The final output of the string is : 'HELLO, MY NAME IS ABHIMANYU SHARMA and i am practicing python'.\n"
     ]
    }
   ],
   "source": [
    "string_1=input('Please enter any type of string: ')   # Enter the sentence\n",
    "\n",
    "final_string = string_1.swapcase()        # function to swap the case of the letter or word\n",
    "\n",
    "print (f\" The final output of the string is : '{final_string}'.\")"
   ]
  },
  {
   "cell_type": "markdown",
   "metadata": {},
   "source": [
    "### Question 29. Remove a specific word from a string."
   ]
  },
  {
   "cell_type": "code",
   "execution_count": 34,
   "metadata": {},
   "outputs": [
    {
     "name": "stdout",
     "output_type": "stream",
     "text": [
      "Please enter any type of string: hello, my name is abhimanyu sharma\n",
      " Please enter the word to drop from the above sentence abhimanyu\n",
      "hello, my name is  sharma\n"
     ]
    }
   ],
   "source": [
    "string_1=input('Please enter any type of string: ').lower()   # Enter the sentence\n",
    "\n",
    "drop_word =  input (\" Please enter the word to drop from the above sentence \").lower()\n",
    "\n",
    "final_string = string_1.replace(drop_word,\"\")\n",
    "\n",
    "print( final_string)"
   ]
  },
  {
   "cell_type": "markdown",
   "metadata": {},
   "source": [
    "### Question 30. Check if a string is a valid email address."
   ]
  },
  {
   "cell_type": "code",
   "execution_count": 35,
   "metadata": {},
   "outputs": [
    {
     "name": "stdout",
     "output_type": "stream",
     "text": [
      "Please enter the e-mail address: hello, my name is abhimanyu sharma\n",
      "'hello, my name is abhimanyu sharma' is invalid.\n"
     ]
    }
   ],
   "source": [
    "import re\n",
    "\n",
    "string_1=input('Please enter the e-mail address: ')   # Enter the E-mail address\n",
    "\n",
    "Verified_email= r'^[\\w\\.-]+@[\\w\\.-]+\\.\\w+$'\n",
    "\n",
    "if re.match(Verified_email, string_1):                     # If condition with re.match function to find the valid E-mail\n",
    "    print(f\"'{string_1}' is valid.\")\n",
    "else:\n",
    "    print(f\"'{string_1}' is invalid.\")\n"
   ]
  },
  {
   "cell_type": "markdown",
   "metadata": {},
   "source": [
    "### Question 31. Extract the username from an email address string."
   ]
  },
  {
   "cell_type": "code",
   "execution_count": 36,
   "metadata": {},
   "outputs": [
    {
     "name": "stdout",
     "output_type": "stream",
     "text": [
      "Please enter e-mail addressjust.abhi08@gmail.com\n",
      "The username from the E-mail address is : 'just.abhi08'.\n"
     ]
    }
   ],
   "source": [
    "import re\n",
    "\n",
    "string_1 = input(\"Please enter e-mail address\")    # Enter the E-mail address\n",
    "\n",
    "username = string_1.split('@')[0]   #split the string from @\n",
    "\n",
    "print(f\"The username from the E-mail address is : '{username}'.\")"
   ]
  },
  {
   "cell_type": "markdown",
   "metadata": {},
   "source": [
    "### Question 32. Extract the domain name from an email address string."
   ]
  },
  {
   "cell_type": "code",
   "execution_count": 37,
   "metadata": {},
   "outputs": [
    {
     "name": "stdout",
     "output_type": "stream",
     "text": [
      "Please enter e-mail addressjust.abhi08@gmail.com\n",
      "The domain name of the E-mail address is : 'gmail.com'.\n"
     ]
    }
   ],
   "source": [
    "import re\n",
    "\n",
    "string_1 = input(\"Please enter e-mail address\")    # Enter the E-mail address\n",
    "\n",
    "username = string_1.split('@')[-1]   #split the string from @\n",
    "\n",
    "print(f\"The domain name of the E-mail address is : '{username}'.\")"
   ]
  },
  {
   "cell_type": "markdown",
   "metadata": {},
   "source": [
    "### Question 33. Replace multiple spaces in a string with a single space."
   ]
  },
  {
   "cell_type": "code",
   "execution_count": 39,
   "metadata": {},
   "outputs": [
    {
     "name": "stdout",
     "output_type": "stream",
     "text": [
      "Please enter the string with mulitple spaceshello,    my   name   is   abhimanyu    sharma\n",
      "The final string is  'hello, my name is abhimanyu sharma'.\n"
     ]
    }
   ],
   "source": [
    "import re\n",
    "\n",
    "string_1 = input(\"Please enter the string with mulitple spaces\").lower()\n",
    "\n",
    "updated_string = re.sub(r'\\s+', ' ', input_string)   # using regular expression to clean the string\n",
    "\n",
    "print(f\"The final string is  '{updated_string}'.\")"
   ]
  },
  {
   "cell_type": "markdown",
   "metadata": {},
   "source": [
    "### Question 34. Check if a string is a valid URL."
   ]
  },
  {
   "cell_type": "code",
   "execution_count": 40,
   "metadata": {},
   "outputs": [
    {
     "name": "stdout",
     "output_type": "stream",
     "text": [
      "Requirement already satisfied: validators in c:\\users\\abhimanyu\\anaconda3\\lib\\site-packages (0.22.0)\n",
      "Note: you may need to restart the kernel to use updated packages.\n"
     ]
    },
    {
     "name": "stderr",
     "output_type": "stream",
     "text": [
      "\n",
      "[notice] A new release of pip available: 22.2.2 -> 23.2.1\n",
      "[notice] To update, run: python.exe -m pip install --upgrade pip\n"
     ]
    }
   ],
   "source": [
    "pip install validators"
   ]
  },
  {
   "cell_type": "code",
   "execution_count": 42,
   "metadata": {},
   "outputs": [
    {
     "name": "stdout",
     "output_type": "stream",
     "text": [
      " Please Enter the URL: https://www.google.com\n",
      "This URL is valid\n"
     ]
    }
   ],
   "source": [
    "import validators   # Importing Necessary Library\n",
    "\n",
    "def valid_url(url_string):\n",
    "    return validators.url(url_string)   # Define function to check the validity of the link\n",
    "\n",
    "url_string= input(\" Please Enter the URL: \")   # Ask the User to Provide the URL\n",
    "\n",
    "if valid_url(url_string):\n",
    "    print(\"This URL is valid\")   # IF else condition to check the URL\n",
    "else:\n",
    "    print(\"This is Invalid URL\") "
   ]
  },
  {
   "cell_type": "markdown",
   "metadata": {},
   "source": [
    "### Question 35. Extract the protocol (http or https) from a URL string."
   ]
  },
  {
   "cell_type": "code",
   "execution_count": 43,
   "metadata": {},
   "outputs": [
    {
     "name": "stdout",
     "output_type": "stream",
     "text": [
      " Please Enter the URL: https://www.google.com\n",
      "The Protocol is : https\n"
     ]
    }
   ],
   "source": [
    "from urllib.parse import urlparse\n",
    "\n",
    "def extract_protocol (url_string):\n",
    "    parsed_url=urlparse(url_string)\n",
    "    return parsed_url.scheme\n",
    "\n",
    "url_string = input(\" Please Enter the URL: \")   # Ask the User to Provide the URL\n",
    "protocol = extract_protocol(url_string)\n",
    "print(\"The Protocol is :\" , protocol)"
   ]
  },
  {
   "cell_type": "markdown",
   "metadata": {},
   "source": [
    "### Question 36. Find the frequency of each character in a string."
   ]
  },
  {
   "cell_type": "code",
   "execution_count": 44,
   "metadata": {},
   "outputs": [
    {
     "name": "stdout",
     "output_type": "stream",
     "text": [
      "Please enter the string : hello, my name is abhimanyu sharma \n",
      " 'h' : 3\n",
      " 'e' : 2\n",
      " 'l' : 2\n",
      " 'o' : 1\n",
      " ',' : 1\n",
      " ' ' : 6\n",
      " 'm' : 4\n",
      " 'y' : 2\n",
      " 'n' : 2\n",
      " 'a' : 5\n",
      " 'i' : 2\n",
      " 's' : 2\n",
      " 'b' : 1\n",
      " 'u' : 1\n",
      " 'r' : 1\n"
     ]
    }
   ],
   "source": [
    "def character_frequency(input_string):\n",
    "    \n",
    "    frequency_dict = {}      # Initialising the blank dictionary\n",
    "    \n",
    "    \n",
    "    for char in input_string:     # itierate the charcter of the input_string\n",
    "        \n",
    "        if char in frequency_dict:\n",
    "            frequency_dict [char] +=1\n",
    "            \n",
    "        else:\n",
    "            frequency_dict [char] =1\n",
    "            \n",
    "    return frequency_dict            # Return the frequency\n",
    "\n",
    "\n",
    "input_string =  input(\"Please enter the string : \")\n",
    "freq_dict  = character_frequency(input_string)\n",
    "\n",
    "for char , frequency in freq_dict.items():\n",
    "    print (f\" '{char}' : {frequency}\")\n",
    "    "
   ]
  },
  {
   "cell_type": "markdown",
   "metadata": {},
   "source": [
    "### Question 37. Remove all punctuation from a string."
   ]
  },
  {
   "cell_type": "code",
   "execution_count": 45,
   "metadata": {},
   "outputs": [
    {
     "name": "stdout",
     "output_type": "stream",
     "text": [
      "Please enter the string : hello, \"my name is \"abhimanyu sharma\".\n",
      "hello my name is abhimanyu sharma\n"
     ]
    }
   ],
   "source": [
    "import string   # Import the string library\n",
    "def remove_punct(input_string):  # Define the functions\n",
    "    \n",
    "    translator = str.maketrans('','', string.punctuation)\n",
    "    \n",
    "    final_string = input_string.translate(translator)       # using the translate function to seperate the punctuation from char\n",
    "\n",
    "    return  final_string\n",
    "\n",
    "input_string = input(\"Please enter the string : \")   # Ask the user to input the string\n",
    "final_string = remove_punct(input_string)\n",
    "print (final_string)   # Printing the final string"
   ]
  },
  {
   "cell_type": "markdown",
   "metadata": {},
   "source": [
    "### Question 38. Check if a string contains only digits."
   ]
  },
  {
   "cell_type": "code",
   "execution_count": 46,
   "metadata": {},
   "outputs": [
    {
     "name": "stdout",
     "output_type": "stream",
     "text": [
      "Please enter the details : hello, my name is abhimanyu sharma\n",
      "Input string have other characters also \n"
     ]
    }
   ],
   "source": [
    "def digit_only(input_string):         # define the functions \n",
    "    return input_string.isdigit()\n",
    "\n",
    "input_string = input(\"Please enter the details : \")   # ask the user to enter the details\n",
    "\n",
    "if digit_only(input_string):\n",
    "    print (\"Input string only have digits\")    # if condition to check whether string have only numbers\n",
    "else:\n",
    "    print (\"Input string have other characters also \")"
   ]
  },
  {
   "cell_type": "markdown",
   "metadata": {},
   "source": [
    "### Question 39. Check if a string contains only alphabets."
   ]
  },
  {
   "cell_type": "code",
   "execution_count": null,
   "metadata": {},
   "outputs": [],
   "source": [
    "def char_only(input_string):\n",
    "    return input_string.isalpha()\n",
    "\n",
    "input_string = input(\"Please enter the details : \")   # ask the user to input the details\n",
    "\n",
    "if char_only(input_string):\n",
    "    print (\"Input string only have alphabet\")\n",
    "else:\n",
    "    print (\"Input string have digits and other characters\")"
   ]
  },
  {
   "cell_type": "markdown",
   "metadata": {},
   "source": [
    "### Question 40. Convert a string to a list of characters."
   ]
  },
  {
   "cell_type": "code",
   "execution_count": 47,
   "metadata": {},
   "outputs": [
    {
     "name": "stdout",
     "output_type": "stream",
     "text": [
      " Please enter the string : hello, my name is abhimanyu sharma and i am 33 years old\n",
      "['h', 'e', 'l', 'l', 'o', ',', ' ', 'm', 'y', ' ', 'n', 'a', 'm', 'e', ' ', 'i', 's', ' ', 'a', 'b', 'h', 'i', 'm', 'a', 'n', 'y', 'u', ' ', 's', 'h', 'a', 'r', 'm', 'a', ' ', 'a', 'n', 'd', ' ', 'i', ' ', 'a', 'm', ' ', '3', '3', ' ', 'y', 'e', 'a', 'r', 's', ' ', 'o', 'l', 'd']\n"
     ]
    }
   ],
   "source": [
    "input_string = input ( \" Please enter the string : \")\n",
    "char_list =  list(input_string)\n",
    "print (char_list)"
   ]
  },
  {
   "cell_type": "markdown",
   "metadata": {},
   "source": [
    "### Question 41. Check if two strings are anagrams."
   ]
  },
  {
   "cell_type": "code",
   "execution_count": 48,
   "metadata": {},
   "outputs": [
    {
     "name": "stdout",
     "output_type": "stream",
     "text": [
      "Please enter the string: study\n",
      "Please enter the string: dusty\n",
      "The strings are anagram\n"
     ]
    }
   ],
   "source": [
    "def is_anagram(string1, string2):\n",
    "\n",
    "    string1 = sorted(string1.replace(\" \", \" \").lower())\n",
    "    string2 = sorted(string2.replace(\" \", \" \").lower())\n",
    "\n",
    "    return string1 == string2\n",
    "\n",
    "string_1 = input(\"Please enter the string: \")\n",
    "string_2 = input(\"Please enter the string: \")\n",
    "\n",
    "\n",
    "if is_anagram(string_1, string_2):\n",
    "    print(\"The strings are anagram\")\n",
    "    \n",
    "else:\n",
    "    print (\"The strings are not anagrams\")\n",
    "    "
   ]
  },
  {
   "cell_type": "markdown",
   "metadata": {},
   "source": [
    "### Question 42. Encode a string using a Caesar cipher."
   ]
  },
  {
   "cell_type": "code",
   "execution_count": 49,
   "metadata": {},
   "outputs": [
    {
     "name": "stdout",
     "output_type": "stream",
     "text": [
      "Please enter the string : hello, my name is abhimanyu sharma and i am practicing python\n",
      "Please enter the shift digit : 3\n",
      "Encoded String :   khoor, pb qdph lv deklpdqbx vkdupd dqg l dp sudfwlflqj sbwkrq\n"
     ]
    }
   ],
   "source": [
    "def caesar_cipher_encode(input_string, shift):\n",
    "    encoded_string = \" \"\n",
    "    \n",
    "    for char in input_string:\n",
    "        if char.isalpha():\n",
    "            if char.isupper():\n",
    "                offset = ord(\"A\")\n",
    "            else:\n",
    "                offset=ord(\"a\")\n",
    "                    \n",
    "            shift = int(shift)       \n",
    "            encoded_char = chr((ord(char) - offset + shift ) % 26 + offset )\n",
    "        else:\n",
    "            \n",
    "            encoded_char= char\n",
    "        encoded_string += encoded_char\n",
    "    return encoded_string\n",
    "    \n",
    "input_string = input(\"Please enter the string : \")\n",
    "shift = int(input( \"Please enter the shift digit : \"))\n",
    "\n",
    "encoded_string = caesar_cipher_encode( input_string , shift)\n",
    "print (\"Encoded String : \" , encoded_string)"
   ]
  },
  {
   "cell_type": "markdown",
   "metadata": {},
   "source": [
    "### Question 43. Decode a Caesar cipher encoded string."
   ]
  },
  {
   "cell_type": "code",
   "execution_count": 50,
   "metadata": {},
   "outputs": [
    {
     "name": "stdout",
     "output_type": "stream",
     "text": [
      "Please enter the encoded string: khoor, pb qdph lv deklpdqbx vkdupd dqg l dp sudfwlflqj sbwkrq\n",
      "Please enter the shift digit: 3\n",
      "Decoded String: hello, my name is abhimanyu sharma and i am practicing python\n"
     ]
    }
   ],
   "source": [
    "def caesar_cipher_decode(encoded_string, shift):\n",
    "    decoded_string = \"\"\n",
    "\n",
    "    for char in encoded_string:\n",
    "        if char.isalpha():  \n",
    "            if char.isupper():  \n",
    "                offset = ord('A')\n",
    "            else: \n",
    "                offset = ord('a')\n",
    "            \n",
    "           \n",
    "            shift = int(shift)\n",
    "            decoded_char = chr((ord(char) - offset - shift) % 26 + offset)\n",
    "        else:\n",
    "            \n",
    "            decoded_char = char\n",
    "\n",
    "        decoded_string += decoded_char\n",
    "\n",
    "    return decoded_string\n",
    "\n",
    "encoded_string = input(\"Please enter the encoded string: \")\n",
    "shift = input(\"Please enter the shift digit: \")\n",
    "\n",
    "decoded_string = caesar_cipher_decode(encoded_string, shift)\n",
    "print(\"Decoded String:\", decoded_string)\n"
   ]
  },
  {
   "cell_type": "markdown",
   "metadata": {},
   "source": [
    "### Question 44. Find the most frequent word in a string."
   ]
  },
  {
   "cell_type": "code",
   "execution_count": 51,
   "metadata": {},
   "outputs": [
    {
     "name": "stdout",
     "output_type": "stream",
     "text": [
      "Please enter the string : hello, my name is abhimanyu sharma and i am practicing python\n",
      "Most Frequent Word :   (['hello', 'my', 'name', 'is', 'abhimanyu', 'sharma', 'and', 'i', 'am', 'practicing', 'python'], 1)\n"
     ]
    }
   ],
   "source": [
    "import re\n",
    "from collections import Counter\n",
    "\n",
    "def most_freq_word (input_string):\n",
    "        words = re.findall(r'\\b\\w+\\b', input_string.lower())\n",
    "        words_count = Counter(words)\n",
    "        \n",
    "        max_frequency = max(words_count.values())\n",
    "        most_frequent_words = [word for word, freq in words_count.items() if freq == max_frequency]\n",
    "            \n",
    "        return most_frequent_words , max_frequency\n",
    "\n",
    "input_string = input(\"Please enter the string : \")\n",
    "most_freq_word = most_freq_word(input_string)\n",
    "print (\"Most Frequent Word :  \", most_freq_word)\n"
   ]
  },
  {
   "cell_type": "markdown",
   "metadata": {},
   "source": [
    "### Question 45. Find all unique words in a string."
   ]
  },
  {
   "cell_type": "code",
   "execution_count": 52,
   "metadata": {},
   "outputs": [
    {
     "name": "stdout",
     "output_type": "stream",
     "text": [
      "Please enter the string: hello, my name is abhimanyu sharma and i am practicing python\n",
      "Unique words: {'abhimanyu', 'hello', 'practicing', 'my', 'is', 'python', 'i', 'sharma', 'am', 'and', 'name'}\n"
     ]
    }
   ],
   "source": [
    "import re   # import regular expression library\n",
    "\n",
    "def unique_words(input_string):\n",
    "    words = re.findall(r'\\b\\w+\\b', input_string.lower())    #  Split the words using regular expression\n",
    "    \n",
    "    unique_word_set = set(words)  # create the sets of words\n",
    "    \n",
    "    return unique_word_set\n",
    "\n",
    "input_string = input(\"Please enter the string: \")  # Ask the user to input the string\n",
    "unique_words_set = unique_words(input_string)\n",
    "print(\"Unique words:\", unique_words_set)"
   ]
  },
  {
   "cell_type": "markdown",
   "metadata": {},
   "source": [
    "### Question 46. Count the number of syllables in a string."
   ]
  },
  {
   "cell_type": "code",
   "execution_count": 53,
   "metadata": {},
   "outputs": [
    {
     "name": "stdout",
     "output_type": "stream",
     "text": [
      "Please enter a word: hello, my name is abhimanyu sharma and i am practicing python\n",
      "Number of syllables: 18\n"
     ]
    }
   ],
   "source": [
    "def count_syllables(word):\n",
    "    return len([char for char in word.lower() if char in 'aeiou'])\n",
    "\n",
    "word = input(\"Please enter a word: \")     # Ask the user to enter the word\n",
    "syllable_count = count_syllables(word)\n",
    "print(\"Number of syllables:\", syllable_count) "
   ]
  },
  {
   "cell_type": "markdown",
   "metadata": {},
   "source": [
    "### Question 47. Check if a string contains any special characters."
   ]
  },
  {
   "cell_type": "code",
   "execution_count": 54,
   "metadata": {},
   "outputs": [
    {
     "name": "stdout",
     "output_type": "stream",
     "text": [
      "Please enter a string: hello, \"my name is \" abhimanyu sharma\".\n",
      "The string has special characters.\n"
     ]
    }
   ],
   "source": [
    "def has_spcl_char(input_string):\n",
    "    special_characters = \"!@#$%^&*()_+{}[]:;<>,.?~\\\\|\"\n",
    "    return any(char in special_characters for char in input_string)\n",
    "\n",
    "\n",
    "input_string = input(\"Please enter a string: \")   # Ask the user to enter the string\n",
    "if has_spcl_char(input_string):\n",
    "    print(\"The string has special characters.\")\n",
    "else:\n",
    "    print(\"The string does not contain special characters.\")"
   ]
  },
  {
   "cell_type": "markdown",
   "metadata": {},
   "source": [
    "### Question 48. Remove the nth word from a string."
   ]
  },
  {
   "cell_type": "code",
   "execution_count": 55,
   "metadata": {},
   "outputs": [
    {
     "name": "stdout",
     "output_type": "stream",
     "text": [
      "Please enter the stringhello, my name is abhimanyu sharma\n",
      "Please enter the position : 3\n",
      "Result: hello, my name abhimanyu sharma\n"
     ]
    }
   ],
   "source": [
    "def remove_nth_word(input_string, n):\n",
    "    words = input_string.split()\n",
    "    if 0 <= n < len(words):\n",
    "        del words[n]\n",
    "        return ' '.join(words)\n",
    "    return input_string\n",
    "\n",
    "input_string = input(\"Please enter the string\")\n",
    "n = int(input( \"Please enter the position : \" ))\n",
    "result = remove_nth_word(input_string, n)\n",
    "print(\"Result:\", result)"
   ]
  },
  {
   "cell_type": "markdown",
   "metadata": {},
   "source": [
    "### Question 49. Insert a word at the nth position in a string."
   ]
  },
  {
   "cell_type": "code",
   "execution_count": 56,
   "metadata": {},
   "outputs": [
    {
     "name": "stdout",
     "output_type": "stream",
     "text": [
      "Please enter the string : hello, my name is abhimanyu sharma \n",
      "Please enter the position : 2\n",
      "Please enter the new word : is\n",
      "Result: hello, my is name is abhimanyu sharma\n"
     ]
    }
   ],
   "source": [
    "def insert_word_at_nth_position(input_string, n, new_word):\n",
    "    words = input_string.split()\n",
    "    \n",
    "    if 0 <= n <= len(words):\n",
    "        words.insert(n, new_word)\n",
    "        result_string = ' '.join(words)\n",
    "        return result_string\n",
    "    else:\n",
    "        return input_string\n",
    "\n",
    "# Example usage:\n",
    "input_string = input(\"Please enter the string : \")\n",
    "n = int(input( \"Please enter the position : \" ))\n",
    "new_word = input(\"Please enter the new word : \")\n",
    "result = insert_word_at_nth_position(input_string, n, new_word)\n",
    "print(\"Result:\", result)"
   ]
  },
  {
   "cell_type": "markdown",
   "metadata": {},
   "source": [
    "### Question 50. Convert a CSV string to a list of lists."
   ]
  },
  {
   "cell_type": "code",
   "execution_count": 57,
   "metadata": {},
   "outputs": [
    {
     "name": "stdout",
     "output_type": "stream",
     "text": [
      "['Name,', 'Age,', 'Location']\n",
      "['Abhimanyu,', '33,', 'Haryana']\n",
      "['Subodh,', '33,', 'Delhi']\n",
      "['Kartik,', '31,', 'Rajasthan']\n",
      "['Shubham,', '30,', 'Bihar']\n"
     ]
    }
   ],
   "source": [
    "csv_string = \"\"\" Name, Age, Location\n",
    "Abhimanyu, 33, Haryana\n",
    "Subodh, 33, Delhi\n",
    "Kartik, 31, Rajasthan\n",
    "Shubham, 30, Bihar\n",
    "\"\"\"\n",
    "\n",
    "csv_file = []\n",
    "\n",
    "lines = csv_string.strip().split('\\n')\n",
    "\n",
    "for line in lines:\n",
    "    values =  line.split(' ')\n",
    "    csv_file.append(values)\n",
    "    \n",
    "for row in csv_file:\n",
    "    print (row)"
   ]
  },
  {
   "cell_type": "markdown",
   "metadata": {},
   "source": [
    "## List Based Practice Problem"
   ]
  },
  {
   "cell_type": "markdown",
   "metadata": {},
   "source": [
    "### Question 1. Create a list with integers from 1 to 10."
   ]
  },
  {
   "cell_type": "code",
   "execution_count": 58,
   "metadata": {},
   "outputs": [
    {
     "name": "stdout",
     "output_type": "stream",
     "text": [
      "[1, 2, 3, 4, 5, 6, 7, 8, 9, 10]\n"
     ]
    }
   ],
   "source": [
    "list_1 = []     # Initiate the blank list\n",
    "\n",
    "for i in range(1,11):    # for loop for the range \n",
    "    list_1.append(i)          # append the list after each iteration\n",
    "print (list_1)            # print the final list"
   ]
  },
  {
   "cell_type": "markdown",
   "metadata": {},
   "source": [
    "### Question 2. Find the length of a list without using the `len()` function."
   ]
  },
  {
   "cell_type": "code",
   "execution_count": 59,
   "metadata": {},
   "outputs": [
    {
     "name": "stdout",
     "output_type": "stream",
     "text": [
      "The total length of the list is :  10\n"
     ]
    }
   ],
   "source": [
    "list_1=[1,2,3,4,5,6,7,8,9,10]      # Enter the data in list\n",
    "\n",
    "count = 0                 # initiate the count as ZERO\n",
    "\n",
    "for _ in list_1:            # For loop for iteration\n",
    "    count +=1\n",
    "    \n",
    "print(\"The total length of the list is : \" , count)"
   ]
  },
  {
   "cell_type": "markdown",
   "metadata": {},
   "source": [
    "### Question 3. Append an element to the end of a list."
   ]
  },
  {
   "cell_type": "code",
   "execution_count": 60,
   "metadata": {},
   "outputs": [
    {
     "name": "stdout",
     "output_type": "stream",
     "text": [
      "[1, 2, 3, 4, 5, 6, 7, 8, 9, 10, 11]\n"
     ]
    }
   ],
   "source": [
    "list_1 = [1,2,3,4,5,6,7,8,9,10]     #Enter the data in the list\n",
    "\n",
    "list_1.append(11)                 # Add the desired number to put in the list\n",
    "\n",
    "print(list_1)   # print the final list"
   ]
  },
  {
   "cell_type": "markdown",
   "metadata": {},
   "source": [
    "### Question 4. Insert an element at a specific index in a list."
   ]
  },
  {
   "cell_type": "code",
   "execution_count": 61,
   "metadata": {},
   "outputs": [
    {
     "name": "stdout",
     "output_type": "stream",
     "text": [
      "[1, 2, 3, 4, 5, 6, 7, 8, 18, 9, 10]\n"
     ]
    }
   ],
   "source": [
    "list_1 = [1,2,3,4,5,6,7,8,9,10]     #Enter the data in the list\n",
    "\n",
    "index_pos = 8               \n",
    "digit = 18\n",
    "\n",
    "list_1.insert(index_pos, digit)\n",
    "\n",
    "print(list_1)"
   ]
  },
  {
   "cell_type": "markdown",
   "metadata": {},
   "source": [
    "### Question 5. Remove an element from a list by its value."
   ]
  },
  {
   "cell_type": "code",
   "execution_count": 63,
   "metadata": {},
   "outputs": [
    {
     "name": "stdout",
     "output_type": "stream",
     "text": [
      "Please enter the digit to remove3\n",
      "The following digit is removed 3 from the list. \n",
      "[1, 2, 4, 5, 6, 7, 8, 9, 10]\n"
     ]
    }
   ],
   "source": [
    "list_1 = [1,2,3,4,5,6,7,8,9,10]     #Enter the data in the list\n",
    "\n",
    "digit = int(input(\"Please enter the digit to remove\" ))   # Enter the digit which needs to be remove\n",
    "\n",
    "if digit in list_1:\n",
    "    list_1.remove(digit)\n",
    "    print(f\"The following digit is removed {digit} from the list. \")\n",
    "else:\n",
    "    print(f\"The following {digit} is not present in the list. \")\n",
    "    \n",
    "print(list_1)"
   ]
  },
  {
   "cell_type": "markdown",
   "metadata": {},
   "source": [
    "### Question 6. Remove an element from a list by its index."
   ]
  },
  {
   "cell_type": "code",
   "execution_count": 69,
   "metadata": {},
   "outputs": [
    {
     "name": "stdout",
     "output_type": "stream",
     "text": [
      "Please enter the index position : 3\n",
      " The following digit has been removed from index 3.\n",
      "[1, 2, 3, 5, 6, 7, 8, 9, 10]\n"
     ]
    }
   ],
   "source": [
    "list_1 = [1,2,3,4,5,6,7,8,9,10]     #Enter the data in the list\n",
    "\n",
    "index= int(input(\"Please enter the index position : \"))   # Enter the index position\n",
    "\n",
    "if 0<= index <len(list_1):                                 # Condition to check the list length\n",
    "    list_1= list_1[:index] + list_1[index + 1 :]\n",
    "    \n",
    "    print (f\" The following digit has been removed from index {index}.\")\n",
    "else:\n",
    "    print (f\" Out of Range Index.\")\n",
    "\n",
    "print(list_1)"
   ]
  },
  {
   "cell_type": "markdown",
   "metadata": {},
   "source": [
    "### Question 7. Check if an element exists in a list."
   ]
  },
  {
   "cell_type": "code",
   "execution_count": 70,
   "metadata": {},
   "outputs": [
    {
     "name": "stdout",
     "output_type": "stream",
     "text": [
      "Please enter the item to check in the list : 4\n",
      "The 4 is present in the list.\n"
     ]
    }
   ],
   "source": [
    "list_1 = [1,2,3,4,5,6,7,8,9,10]     #Enter the data in the list\n",
    "\n",
    "element = int(input('Please enter the item to check in the list : '))\n",
    "\n",
    "if element in list_1:\n",
    "    print(f\"The {element} is present in the list.\")\n",
    "else:\n",
    "    print(\"The element is not in the list\")\n",
    "    "
   ]
  },
  {
   "cell_type": "markdown",
   "metadata": {},
   "source": [
    "### Question 8. Find the index of the first occurrence of an element in a list."
   ]
  },
  {
   "cell_type": "code",
   "execution_count": 71,
   "metadata": {},
   "outputs": [
    {
     "name": "stdout",
     "output_type": "stream",
     "text": [
      "Please enter the item to check in the list : 8\n",
      "The first occurrence of 8 is at index 7.\n"
     ]
    }
   ],
   "source": [
    "list_1 = [1,2,3,4,5,6,7,8,9,10]     #Enter the data in the list\n",
    "\n",
    "element = int(input('Please enter the item to check in the list : '))\n",
    "\n",
    "if element in list_1:\n",
    "    \n",
    "    index = list_1.index(element)\n",
    "    \n",
    "    print(f\"The first occurrence of {element} is at index {index}.\")\n",
    "else:\n",
    "    print(f\"{element} does not exist in the list.\")"
   ]
  },
  {
   "cell_type": "markdown",
   "metadata": {},
   "source": [
    "### Question 9. Count the occurrences of an element in a list."
   ]
  },
  {
   "cell_type": "code",
   "execution_count": 72,
   "metadata": {},
   "outputs": [
    {
     "name": "stdout",
     "output_type": "stream",
     "text": [
      "Please enter the item to check in the list : 4\n",
      "The element 4 is present 1 time in the list.\n"
     ]
    }
   ],
   "source": [
    "list_1 = [1,2,3,4,5,6,7,8,9,10,8,9,8]     #Enter the data in the list\n",
    "\n",
    "element = int(input('Please enter the item to check in the list : '))\n",
    "\n",
    "count = list_1.count(element)\n",
    "\n",
    "print (f\"The element {element} is present {count} time in the list.\")\n"
   ]
  },
  {
   "cell_type": "markdown",
   "metadata": {},
   "source": [
    "### Question 10. Reverse the order of elements in a list."
   ]
  },
  {
   "cell_type": "code",
   "execution_count": 73,
   "metadata": {},
   "outputs": [
    {
     "name": "stdout",
     "output_type": "stream",
     "text": [
      "[8, 9, 8, 10, 9, 8, 7, 6, 5, 4, 3, 2, 1]\n"
     ]
    }
   ],
   "source": [
    "list_1 = [1,2,3,4,5,6,7,8,9,10,8,9,8]     #Enter the data in the list\n",
    "\n",
    "new_list = list_1[::-1]      \n",
    "\n",
    "print(new_list)"
   ]
  },
  {
   "cell_type": "markdown",
   "metadata": {},
   "source": [
    "### Question 11. Sort a list in ascending order."
   ]
  },
  {
   "cell_type": "code",
   "execution_count": 74,
   "metadata": {},
   "outputs": [
    {
     "name": "stdout",
     "output_type": "stream",
     "text": [
      "[1, 2, 3, 4, 5, 6, 7, 8, 8, 8, 9, 9, 10]\n"
     ]
    }
   ],
   "source": [
    "list_1 = [1,2,3,4,5,6,7,8,9,10,8,9,8]     #Enter the data in the list\n",
    "\n",
    "new_list = sorted(list_1)\n",
    "\n",
    "print(new_list)"
   ]
  },
  {
   "cell_type": "markdown",
   "metadata": {},
   "source": [
    "### Question 12. Sort a list in descending order."
   ]
  },
  {
   "cell_type": "code",
   "execution_count": 75,
   "metadata": {},
   "outputs": [
    {
     "name": "stdout",
     "output_type": "stream",
     "text": [
      "[10, 9, 9, 8, 8, 8, 7, 6, 5, 4, 3, 2, 1]\n"
     ]
    }
   ],
   "source": [
    "list_1 = [1,2,3,4,5,6,7,8,9,10,8,9,8]     #Enter the data in the list\n",
    "\n",
    "new_list = sorted(list_1, reverse= True )\n",
    "\n",
    "print(new_list)"
   ]
  },
  {
   "cell_type": "markdown",
   "metadata": {},
   "source": [
    "### Question 13. Create a list of even numbers from 1 to 20."
   ]
  },
  {
   "cell_type": "code",
   "execution_count": 76,
   "metadata": {},
   "outputs": [
    {
     "name": "stdout",
     "output_type": "stream",
     "text": [
      "[2, 4, 6, 8, 10, 12, 14, 16, 18, 20]\n"
     ]
    }
   ],
   "source": [
    "even_num = []   # Initiate the blank list\n",
    "\n",
    "for x in range(2,21,2):\n",
    "    even_num.append(x)\n",
    "print(even_num)"
   ]
  },
  {
   "cell_type": "markdown",
   "metadata": {},
   "source": [
    "### Question 14. Create a list of odd numbers from 1 to 20."
   ]
  },
  {
   "cell_type": "code",
   "execution_count": 77,
   "metadata": {},
   "outputs": [
    {
     "name": "stdout",
     "output_type": "stream",
     "text": [
      "[1, 3, 5, 7, 9, 11, 13, 15, 17, 19]\n"
     ]
    }
   ],
   "source": [
    "odd_num = []   # Initiate the blank list\n",
    "\n",
    "for x in range(1,21,2):\n",
    "    odd_num.append(x)\n",
    "print(odd_num)"
   ]
  },
  {
   "cell_type": "markdown",
   "metadata": {},
   "source": [
    "### Question 15. Find the sum of all elements in a list."
   ]
  },
  {
   "cell_type": "code",
   "execution_count": 78,
   "metadata": {},
   "outputs": [
    {
     "name": "stdout",
     "output_type": "stream",
     "text": [
      "80\n"
     ]
    }
   ],
   "source": [
    "list_1 = [1,2,3,4,5,6,7,8,9,10,8,9,8]     #Enter the data in the list\n",
    "\n",
    "new_list = sum(list_1)\n",
    "\n",
    "print(new_list)"
   ]
  },
  {
   "cell_type": "markdown",
   "metadata": {},
   "source": [
    "### Question 16. Find the maximum value in a list."
   ]
  },
  {
   "cell_type": "code",
   "execution_count": 79,
   "metadata": {},
   "outputs": [
    {
     "name": "stdout",
     "output_type": "stream",
     "text": [
      "10\n"
     ]
    }
   ],
   "source": [
    "list_1 = [1,2,3,4,5,6,7,8,9,10,8,9,8]     #Enter the data in the list\n",
    "\n",
    "new_list = max(list_1)     # max function to check the maximum number \n",
    "\n",
    "print(new_list)"
   ]
  },
  {
   "cell_type": "markdown",
   "metadata": {},
   "source": [
    "# Question 17. Find the minimum value in a list."
   ]
  },
  {
   "cell_type": "code",
   "execution_count": 80,
   "metadata": {},
   "outputs": [
    {
     "name": "stdout",
     "output_type": "stream",
     "text": [
      "1\n"
     ]
    }
   ],
   "source": [
    "list_1 = [1,2,3,4,5,6,7,8,9,10,8,9,8]     #Enter the data in the list\n",
    "\n",
    "new_list = min(list_1)     # min function to check the minimum number \n",
    "\n",
    "print(new_list)"
   ]
  },
  {
   "cell_type": "markdown",
   "metadata": {},
   "source": [
    "### Question 18. Create a list of squares of numbers from 1 to 10."
   ]
  },
  {
   "cell_type": "code",
   "execution_count": 81,
   "metadata": {},
   "outputs": [
    {
     "name": "stdout",
     "output_type": "stream",
     "text": [
      "[1, 4, 9, 16, 25, 36, 49, 64, 81, 100]\n"
     ]
    }
   ],
   "source": [
    "squares = [] # Initiate the blank list\n",
    "\n",
    "for x in range(1,11):\n",
    "    squares.append(x**2)\n",
    "print(squares)"
   ]
  },
  {
   "cell_type": "markdown",
   "metadata": {},
   "source": [
    "### Question 19. Create a list of random numbers."
   ]
  },
  {
   "cell_type": "code",
   "execution_count": 82,
   "metadata": {},
   "outputs": [
    {
     "name": "stdout",
     "output_type": "stream",
     "text": [
      "Please enter the count of the random numbers to generate : 4\n",
      "[7, 7, 86, 29]\n"
     ]
    }
   ],
   "source": [
    "import random\n",
    "\n",
    "rand_count = int(input(\"Please enter the count of the random numbers to generate : \"))\n",
    "\n",
    "rand_num = [ ]   # Initiatet the blank list\n",
    "\n",
    "for _ in range(rand_count):\n",
    "    rand_num.append(random.randint(1,100))\n",
    "    \n",
    "print(rand_num)"
   ]
  },
  {
   "cell_type": "markdown",
   "metadata": {},
   "source": [
    "### Question 20. Remove duplicates from a list."
   ]
  },
  {
   "cell_type": "code",
   "execution_count": 83,
   "metadata": {},
   "outputs": [
    {
     "name": "stdout",
     "output_type": "stream",
     "text": [
      "[1, 2, 3, 4, 5, 6, 7, 8, 9, 10]\n"
     ]
    }
   ],
   "source": [
    "my_list = [1, 2, 3, 4, 5, 6, 7, 8, 9, 10, 8, 9, 8]\n",
    "\n",
    "new_list = []  # Initialize the new list\n",
    "\n",
    "for item in my_list:\n",
    "    if item not in new_list:\n",
    "        new_list.append(item)\n",
    "\n",
    "print(new_list)"
   ]
  },
  {
   "cell_type": "markdown",
   "metadata": {},
   "source": [
    "### Question 21. Find the common elements between two lists."
   ]
  },
  {
   "cell_type": "code",
   "execution_count": 84,
   "metadata": {},
   "outputs": [
    {
     "name": "stdout",
     "output_type": "stream",
     "text": [
      "The common elements in the lists are: [8, 9, 10]\n"
     ]
    }
   ],
   "source": [
    "list_1 = [5, 6, 7, 8, 9, 10]\n",
    "list_2 = [8, 9, 10, 11, 12, 13, 14, 15, 16, 17]\n",
    "\n",
    "common_elements = [x for x in list_1 if x in list_2]\n",
    "\n",
    "print(f\"The common elements in the lists are: {common_elements}\")"
   ]
  },
  {
   "cell_type": "markdown",
   "metadata": {},
   "source": [
    "### Question 22. Find the difference between two lists."
   ]
  },
  {
   "cell_type": "code",
   "execution_count": 85,
   "metadata": {},
   "outputs": [
    {
     "name": "stdout",
     "output_type": "stream",
     "text": [
      "The unique elements in the lists are: [1, 2, 3, 4, 5, 6, 7, 14, 15, 16, 17]\n"
     ]
    }
   ],
   "source": [
    "list_1 = [1, 2, 3, 4, 5, 6, 7, 8, 9, 10, 11, 12, 13]\n",
    "list_2 = [8, 9, 10, 11, 12, 13, 14, 15, 16, 17]\n",
    "\n",
    "diff_elements = [x for x in list_1 if x not in list_2] + [x for x in list_2 if x not in list_1]\n",
    "\n",
    "print(f\"The unique elements in the lists are: {diff_elements}\")"
   ]
  },
  {
   "cell_type": "markdown",
   "metadata": {},
   "source": [
    "### Question 23. Merge two lists."
   ]
  },
  {
   "cell_type": "code",
   "execution_count": 86,
   "metadata": {},
   "outputs": [
    {
     "name": "stdout",
     "output_type": "stream",
     "text": [
      "The elements of the final_list are [1, 2, 3, 4, 5, 6, 7, 8, 9, 10, 11, 12, 13, 8, 9, 10, 11, 12, 13, 14, 15, 16, 17] \n"
     ]
    }
   ],
   "source": [
    "list_1= [1,2,3,4,5,6,7,8,9,10,11,12,13]  \n",
    "list_2= [8,9,10,11,12,13,14,15,16,17]\n",
    "\n",
    "final_list = list_1 + list_2     \n",
    "\n",
    "print(f\"The elements of the final_list are {final_list} \")"
   ]
  },
  {
   "cell_type": "markdown",
   "metadata": {},
   "source": [
    "### Question 24. Multiply all elements in a list by 2."
   ]
  },
  {
   "cell_type": "code",
   "execution_count": 87,
   "metadata": {},
   "outputs": [
    {
     "name": "stdout",
     "output_type": "stream",
     "text": [
      "[2, 4, 6, 8, 10, 12, 14, 16, 18, 0]\n"
     ]
    }
   ],
   "source": [
    "list_1 = [1, 2, 3, 4, 5,6,7,8,9,0]\n",
    "\n",
    "for i in range(len(list_1)):\n",
    "    list_1[i] = list_1[i] * 2\n",
    "\n",
    "print(list_1)"
   ]
  },
  {
   "cell_type": "markdown",
   "metadata": {},
   "source": [
    "### Question 25. Filter out all even numbers from a list."
   ]
  },
  {
   "cell_type": "code",
   "execution_count": 88,
   "metadata": {},
   "outputs": [
    {
     "name": "stdout",
     "output_type": "stream",
     "text": [
      "The even numbers list are [2, 4, 6, 8, 8]\n"
     ]
    }
   ],
   "source": [
    "list_1= [1,2,3,4,5,6,7,7,8,7,8]\n",
    "even_list = [x for x in list_1 if x % 2 == 0 ]\n",
    "\n",
    "print(f\"The even numbers list are {even_list}\")"
   ]
  },
  {
   "cell_type": "markdown",
   "metadata": {},
   "source": [
    "### Question 26. Convert a list of strings to a list of integers."
   ]
  },
  {
   "cell_type": "code",
   "execution_count": 89,
   "metadata": {},
   "outputs": [
    {
     "name": "stdout",
     "output_type": "stream",
     "text": [
      "[1, 3, 2, 4, 5, 6, 7, 8]\n"
     ]
    },
    {
     "data": {
      "text/plain": [
       "list"
      ]
     },
     "execution_count": 89,
     "metadata": {},
     "output_type": "execute_result"
    }
   ],
   "source": [
    "string_list = [\"1\",\"3\", \"2\", \"4\", \"5\", \"6\", \"7\" , \"8\"]   # list in the form of strings\n",
    "list_1 = [int(string) for string in string_list]     # Creating new list for taking every element in string_list as integer\n",
    "print(list_1)\n",
    "type(list_1)"
   ]
  },
  {
   "cell_type": "markdown",
   "metadata": {},
   "source": [
    "### Question 27. Convert a list of integers to a list of strings."
   ]
  },
  {
   "cell_type": "code",
   "execution_count": 90,
   "metadata": {},
   "outputs": [
    {
     "name": "stdout",
     "output_type": "stream",
     "text": [
      "['1', '2', '3', '4', '5', '6', '7', '8', '9', '0']\n"
     ]
    }
   ],
   "source": [
    "int_list = [1, 2, 3, 4, 5,6,7,8,9,0]   # list in the form of strings\n",
    "list_1 = [str(int) for int in int_list]     # Creating new list for taking every element in string_list as integer\n",
    "print(list_1)"
   ]
  },
  {
   "cell_type": "markdown",
   "metadata": {},
   "source": [
    "### Question 28. Flatten a nested list."
   ]
  },
  {
   "cell_type": "code",
   "execution_count": 91,
   "metadata": {},
   "outputs": [
    {
     "name": "stdout",
     "output_type": "stream",
     "text": [
      "[1, 2, 3, 4, 5, 6, 7, 8]\n"
     ]
    }
   ],
   "source": [
    "def flatten_nested_list(nested):\n",
    "    for item in nested:\n",
    "        if isinstance(item, list):\n",
    "            yield from flatten_nested_list(item)\n",
    "        else:\n",
    "            yield item\n",
    "\n",
    "# Example nested list\n",
    "nested_list = [1, 2, [3, 4, [5, 6]], [7, 8]]\n",
    "\n",
    "# Flatten the nested list\n",
    "flat_list = list(flatten_nested_list(nested_list))\n",
    "\n",
    "# Printing the flattened list\n",
    "print(flat_list)"
   ]
  },
  {
   "cell_type": "markdown",
   "metadata": {},
   "source": [
    "### Question 29. Create a list of the first 10 Fibonacci numbers."
   ]
  },
  {
   "cell_type": "code",
   "execution_count": 92,
   "metadata": {},
   "outputs": [
    {
     "name": "stdout",
     "output_type": "stream",
     "text": [
      "[0, 1, 1, 2, 3, 5, 8, 13, 21, 34, 55, 89, 144, 233, 377, 610, 987, 1597, 2584, 4181]\n"
     ]
    }
   ],
   "source": [
    "fib_seq = [0, 1]      # Initialize the first two Fibonacci numbers\n",
    "\n",
    "for i in range(2, 20):\n",
    "    next_fib = fib_seq[i - 1] + fib_seq[i - 2]\n",
    "    fib_seq.append(next_fib)\n",
    "\n",
    "print(fib_seq)"
   ]
  },
  {
   "cell_type": "markdown",
   "metadata": {},
   "source": [
    "### Question 30. Check if a list is sorted."
   ]
  },
  {
   "cell_type": "code",
   "execution_count": 93,
   "metadata": {},
   "outputs": [
    {
     "name": "stdout",
     "output_type": "stream",
     "text": [
      "The list is sorted.\n"
     ]
    }
   ],
   "source": [
    "def is_sorted(arr):\n",
    "    return arr == sorted(arr)\n",
    "\n",
    "my_list = [1, 2, 3, 4, 5,6,7,8,9,10,11,12,14,15,22]\n",
    "is_sorted_result = is_sorted(my_list)\n",
    "\n",
    "if is_sorted_result:\n",
    "    print(\"The list is sorted.\")\n",
    "else:\n",
    "    print(\"The list is not sorted.\")"
   ]
  },
  {
   "cell_type": "markdown",
   "metadata": {},
   "source": [
    "### Question 31. Rotate a list to the left by `n` positions."
   ]
  },
  {
   "cell_type": "code",
   "execution_count": 95,
   "metadata": {},
   "outputs": [
    {
     "name": "stdout",
     "output_type": "stream",
     "text": [
      "Please enter the number for rotation of the list : 4\n",
      "[5, 6, 7, 8, 9, 10, 1, 2, 3, 4]\n"
     ]
    }
   ],
   "source": [
    "def rotate_left(arr, n):\n",
    "    if len(arr) == 0:\n",
    "        return arr  # No rotation needed for an empty list\n",
    "    n = n % len(arr)     # Rotation number should not be greater then the list length\n",
    "    return arr[n:] + arr[:n]\n",
    "\n",
    "list_1 = [1, 2, 3, 4, 5, 6, 7, 8, 9, 10]\n",
    "n = int(input(\"Please enter the number for rotation of the list : \"))\n",
    "updated_list = list_1[n:] + list_1[:n]\n",
    "print(updated_list)"
   ]
  },
  {
   "cell_type": "markdown",
   "metadata": {},
   "source": [
    "### Question 32. Rotate a list to the right by `n` positions."
   ]
  },
  {
   "cell_type": "code",
   "execution_count": 96,
   "metadata": {},
   "outputs": [
    {
     "name": "stdout",
     "output_type": "stream",
     "text": [
      "Please enter the number for rotation of the list : 4\n",
      "[5, 6, 7, 8, 9, 10, 1, 2, 3, 4]\n"
     ]
    }
   ],
   "source": [
    "def rotate_right(arr, n):\n",
    "    if len(arr) == 0:\n",
    "        return arr  # No rotation needed for an empty list\n",
    "    n = n % len(arr)     # Rotation number should not be greater then the list length\n",
    "    return arr[:n] + arr[n:]\n",
    "\n",
    "list_1 = [1, 2, 3, 4, 5, 6, 7, 8, 9, 10]\n",
    "n = int(input(\"Please enter the number for rotation of the list : \"))\n",
    "updated_list = list_1[n:] + list_1[:n]\n",
    "print(updated_list)"
   ]
  },
  {
   "cell_type": "markdown",
   "metadata": {},
   "source": [
    "### Question 33. Create a list of prime numbers up to 50."
   ]
  },
  {
   "cell_type": "code",
   "execution_count": 97,
   "metadata": {},
   "outputs": [
    {
     "name": "stdout",
     "output_type": "stream",
     "text": [
      "[2, 3, 5, 7, 11, 13, 17, 19, 23, 29, 31, 37, 41, 43, 47]\n"
     ]
    }
   ],
   "source": [
    "def is_prime(num):\n",
    "    if num <= 1:\n",
    "        return False\n",
    "    for i in range(2, num):\n",
    "        if num % i == 0:\n",
    "            return False\n",
    "    return True\n",
    "\n",
    "prime_numbers = [num for num in range(2, 51) if is_prime(num)]\n",
    "\n",
    "print(prime_numbers)"
   ]
  },
  {
   "cell_type": "markdown",
   "metadata": {},
   "source": [
    "### Question 34. Split a list into chunks of size `n`."
   ]
  },
  {
   "cell_type": "code",
   "execution_count": 98,
   "metadata": {},
   "outputs": [
    {
     "name": "stdout",
     "output_type": "stream",
     "text": [
      "Plese enter the size range : 4\n",
      "[1, 2, 3, 4]\n",
      "[5, 6, 7, 8]\n",
      "[9, 10]\n"
     ]
    }
   ],
   "source": [
    "def chunk_list(input_list, n):\n",
    "    if n <= 0:\n",
    "        return [input_list]  \n",
    "    return [input_list[i:i + n] for i in range(0, len(input_list), n)]\n",
    "\n",
    "my_list = [1, 2, 3, 4, 5, 6, 7, 8, 9, 10]\n",
    "chunk_size = int(input(\"Plese enter the size range : \" ))\n",
    "chunks = chunk_list(my_list, chunk_size)\n",
    "\n",
    "for chunk in chunks:\n",
    "    print(chunk)"
   ]
  },
  {
   "cell_type": "markdown",
   "metadata": {},
   "source": [
    "### Question 35. Find the second largest number in a list."
   ]
  },
  {
   "cell_type": "code",
   "execution_count": 99,
   "metadata": {},
   "outputs": [
    {
     "name": "stdout",
     "output_type": "stream",
     "text": [
      "The Second Largest Number is : 88.\n"
     ]
    }
   ],
   "source": [
    "def second_largest(num):\n",
    "    if len(num)<2:\n",
    "        return \"List must have atleast two numbers.\"\n",
    "    \n",
    "    sort_num = sorted(num, reverse=True)\n",
    "    return sort_num[1]\n",
    "\n",
    "num = [1,11,34,66,4,32,23,2,3,23,4,5,6,7,88,55,123]\n",
    "solution = second_largest(num)\n",
    "print(f\"The Second Largest Number is : {solution}.\")"
   ]
  },
  {
   "cell_type": "markdown",
   "metadata": {},
   "source": [
    "### Question 36. Replace every element in a list with its square."
   ]
  },
  {
   "cell_type": "code",
   "execution_count": 100,
   "metadata": {},
   "outputs": [
    {
     "name": "stdout",
     "output_type": "stream",
     "text": [
      "The square of the given numbers are  : [1, 4, 1089, 1936, 3025, 36, 49, 749956, 2025]\n"
     ]
    }
   ],
   "source": [
    "def square_function(list):\n",
    "    \n",
    "    square_list = [] # Initiate the blank list for storing the square of the elements\n",
    "    \n",
    "    for i in list:\n",
    "        square_element  = i ** 2\n",
    "        square_list.append(square_element)\n",
    "    return square_list\n",
    "\n",
    "\n",
    "num = [1,2,33,44,55,6,7,866,45]\n",
    "result = square_function(num)\n",
    "print (f\"The square of the given numbers are  : {result}\")\n",
    "\n",
    "\n",
    "        "
   ]
  },
  {
   "cell_type": "markdown",
   "metadata": {},
   "source": [
    "### Question 37. Convert a list to a dictionary where list elements become keys and their indices become values."
   ]
  },
  {
   "cell_type": "code",
   "execution_count": 101,
   "metadata": {},
   "outputs": [
    {
     "name": "stdout",
     "output_type": "stream",
     "text": [
      "{'Abhimanyu': 0, 'Sangeeta': 1, 'Kuldeep': 2, 'Seema': 3, 'Yug': 4, 'Takshavi': 5}\n"
     ]
    }
   ],
   "source": [
    "list_1 = [\"Abhimanyu\",\"Sangeeta\",\"Kuldeep\",\"Seema\", \"Yug\",\"Takshavi\"]\n",
    "\n",
    "dict = {}   # Initiating the blank dictionary for storing the elements\n",
    "\n",
    "for index , element in enumerate(list_1):  \n",
    "    dict[element] = index\n",
    "\n",
    "print (dict)"
   ]
  },
  {
   "cell_type": "markdown",
   "metadata": {},
   "source": [
    "### Question 38. Shuffle the elements of a list randomly."
   ]
  },
  {
   "cell_type": "code",
   "execution_count": 102,
   "metadata": {},
   "outputs": [
    {
     "name": "stdout",
     "output_type": "stream",
     "text": [
      "[3, 43, 532, 1, 33, 43, 3, 4, 776, 48, 2, 4, 3, 688]\n"
     ]
    }
   ],
   "source": [
    "import random   # importing the random library for using the random shuffle function\n",
    "\n",
    "list_1 = [1,2,33,43,3,43,4,3,532,776,48,688,4,3]\n",
    "\n",
    "random.shuffle(list_1)\n",
    "\n",
    "print(list_1)"
   ]
  },
  {
   "cell_type": "markdown",
   "metadata": {},
   "source": [
    "### Question 39. Create a list of the first 10 factorial numbers."
   ]
  },
  {
   "cell_type": "code",
   "execution_count": 103,
   "metadata": {},
   "outputs": [
    {
     "name": "stdout",
     "output_type": "stream",
     "text": [
      "[1, 1, 2, 6, 24, 120, 720, 5040, 40320, 362880]\n"
     ]
    }
   ],
   "source": [
    "def cal_fact(n):\n",
    "    factorial = 1      #Initiating the inital factorial as 1 \n",
    "    \n",
    "    for i in range(1,n+1):\n",
    "        factorial *= i\n",
    "    return factorial \n",
    "\n",
    "first_10_fact = []\n",
    "for n in range(10):\n",
    "    first_10_fact.append(cal_fact(n))\n",
    "    \n",
    "print(first_10_fact)"
   ]
  },
  {
   "cell_type": "markdown",
   "metadata": {},
   "source": [
    "### Question 40. Check if two lists have at least one element in common."
   ]
  },
  {
   "cell_type": "code",
   "execution_count": 104,
   "metadata": {},
   "outputs": [
    {
     "name": "stdout",
     "output_type": "stream",
     "text": [
      "The List have atleast one common element {2, 4, 5, 6}\n"
     ]
    }
   ],
   "source": [
    "tango = [1,2,3,4,5,6,7,8,9,10]\n",
    "charlie = [2,4,5,6,11,12,13,14,15,16,17]\n",
    "\n",
    "\n",
    "set_1 = set(tango)\n",
    "set_2 = set(charlie)\n",
    "common_element = set_1.intersection(set_2)\n",
    "\n",
    "if common_element:\n",
    "    print(f\"The List have atleast one common element {common_element}\")\n",
    "else:\n",
    "    print(\"The list do not contain common element\")"
   ]
  },
  {
   "cell_type": "markdown",
   "metadata": {},
   "source": [
    "### Question 41. Remove all elements from a list."
   ]
  },
  {
   "cell_type": "code",
   "execution_count": 105,
   "metadata": {},
   "outputs": [
    {
     "name": "stdout",
     "output_type": "stream",
     "text": [
      "The List have been cleared []\n"
     ]
    }
   ],
   "source": [
    "list_1 = [1,2,3,4,5,6,7,5,6,7]\n",
    "result = list_1.clear()\n",
    "print(f\"The List have been cleared {list_1}\")"
   ]
  },
  {
   "cell_type": "markdown",
   "metadata": {},
   "source": [
    "### Question 42. Replace negative numbers in a list with 0."
   ]
  },
  {
   "cell_type": "code",
   "execution_count": 106,
   "metadata": {},
   "outputs": [
    {
     "name": "stdout",
     "output_type": "stream",
     "text": [
      "[1, 2, 4, 2, 4, 2, 0, 0, 0, 40, 0, 0, 0]\n"
     ]
    }
   ],
   "source": [
    "list_1 = [1,2,4,2,4,2,-1,-2,-3,40,-55,-34,-56]\n",
    "\n",
    "for i in range(len(list_1)):\n",
    "    if list_1[i]<0:\n",
    "        list_1[i]=0\n",
    "        \n",
    "print(list_1)"
   ]
  },
  {
   "cell_type": "markdown",
   "metadata": {},
   "source": [
    "### Question 43. Convert a string into a list of words."
   ]
  },
  {
   "cell_type": "code",
   "execution_count": 107,
   "metadata": {},
   "outputs": [
    {
     "name": "stdout",
     "output_type": "stream",
     "text": [
      "Please Enter the sentence : hello my name is abhimanyu sharma\n",
      "['hello', 'my', 'name', 'is', 'abhimanyu', 'sharma']\n"
     ]
    }
   ],
   "source": [
    "inp_str = input(\"Please Enter the sentence : \")\n",
    "\n",
    "list_1 = inp_str.split()\n",
    "print(list_1)\n"
   ]
  },
  {
   "cell_type": "markdown",
   "metadata": {},
   "source": [
    "### Question 44. Convert a list of words into a string."
   ]
  },
  {
   "cell_type": "code",
   "execution_count": 108,
   "metadata": {},
   "outputs": [
    {
     "name": "stdout",
     "output_type": "stream",
     "text": [
      "My Name is Abhimanyu Sharma\n"
     ]
    },
    {
     "data": {
      "text/plain": [
       "str"
      ]
     },
     "execution_count": 108,
     "metadata": {},
     "output_type": "execute_result"
    }
   ],
   "source": [
    "list_1 = [\"My\" , \"Name\" ,  \"is\",  \"Abhimanyu\", \"Sharma\"]\n",
    "\n",
    "string_1 = \" \".join(list_1)\n",
    "print (string_1)\n",
    "type(string_1)"
   ]
  },
  {
   "cell_type": "markdown",
   "metadata": {},
   "source": [
    "### Question 45. Create a list of the first `n` powers of 2."
   ]
  },
  {
   "cell_type": "code",
   "execution_count": 109,
   "metadata": {},
   "outputs": [
    {
     "name": "stdout",
     "output_type": "stream",
     "text": [
      "[1, 2, 4, 8, 16, 32, 64, 128, 256, 512]\n"
     ]
    }
   ],
   "source": [
    "n = 10\n",
    "power_2 = []  # Initiate the blank list to store the data after the solution\n",
    "\n",
    "for i in range(n):\n",
    "    power_2.append(2 ** i)\n",
    "\n",
    "print(power_2)\n",
    "\n",
    "\n",
    "    "
   ]
  },
  {
   "cell_type": "markdown",
   "metadata": {},
   "source": [
    "### Question 46. Find the longest string in a list of strings."
   ]
  },
  {
   "cell_type": "code",
   "execution_count": 110,
   "metadata": {},
   "outputs": [
    {
     "name": "stdout",
     "output_type": "stream",
     "text": [
      "The longest string is Abhimanyu \n"
     ]
    }
   ],
   "source": [
    "string_1 = [\"Abhimanyu\" , \"Sharma\" , \"Brisbane\" , \"Rockstar\" , \"Lunar\", \"Mission\" ]\n",
    "\n",
    "longest_string = max(string_1 , key = len)\n",
    "\n",
    "print (f\"The longest string is {longest_string} \")"
   ]
  },
  {
   "cell_type": "markdown",
   "metadata": {},
   "source": [
    "### Question 47. Find the shortest string in a list of strings."
   ]
  },
  {
   "cell_type": "code",
   "execution_count": 111,
   "metadata": {},
   "outputs": [
    {
     "name": "stdout",
     "output_type": "stream",
     "text": [
      "The Shortest string is Lunar \n"
     ]
    }
   ],
   "source": [
    "string_1 = [\"Abhimanyu\" , \"Sharma\" , \"Brisbane\" , \"Rockstar\" , \"Lunar\", \"Mission\" ]\n",
    "\n",
    "longest_string = min(string_1 , key = len)\n",
    "\n",
    "print (f\"The Shortest string is {longest_string} \")"
   ]
  },
  {
   "cell_type": "markdown",
   "metadata": {},
   "source": [
    "### Question 48. Create a list of the first `n` triangular numbers."
   ]
  },
  {
   "cell_type": "code",
   "execution_count": 112,
   "metadata": {},
   "outputs": [
    {
     "name": "stdout",
     "output_type": "stream",
     "text": [
      "[0, 1, 3, 6, 10, 15, 21, 28, 36, 45]\n"
     ]
    }
   ],
   "source": [
    "n = 10\n",
    "triangular_num  = []  # Initiate the blank list to store the data after the solution\n",
    "\n",
    "for i in range(n):\n",
    "    triangular_num.append(i* ( i+1 )//2)\n",
    "\n",
    "\n",
    "print(triangular_num)\n"
   ]
  },
  {
   "cell_type": "markdown",
   "metadata": {},
   "source": [
    "### Question 49. Check if a list contains another list as a subsequence."
   ]
  },
  {
   "cell_type": "code",
   "execution_count": 113,
   "metadata": {},
   "outputs": [
    {
     "name": "stdout",
     "output_type": "stream",
     "text": [
      "sublist is a subsequence of the Main List\n"
     ]
    }
   ],
   "source": [
    "def is_subsequence(sublist, mainlist):\n",
    "    for item in sublist:\n",
    "        if item not in mainlist:\n",
    "            return False\n",
    "    return True\n",
    "\n",
    "mainlist = [1, 2, 3, 4, 5, 6, 7, 8, 9,11,13,5,6,7]\n",
    "sublist = [3, 4, 5, 6]\n",
    "\n",
    "final_result = is_subsequence(sublist, mainlist)\n",
    "\n",
    "if final_result:\n",
    "    print(\"sublist is a subsequence of the Main List\")\n",
    "else:\n",
    "    print(\"sublist is not a subsequence of the Main List\")"
   ]
  },
  {
   "cell_type": "markdown",
   "metadata": {},
   "source": [
    "### Question 50. Swap two elements in a list by their indices."
   ]
  },
  {
   "cell_type": "code",
   "execution_count": 114,
   "metadata": {},
   "outputs": [
    {
     "name": "stdout",
     "output_type": "stream",
     "text": [
      "[1, 4, 3, 2, 5]\n"
     ]
    }
   ],
   "source": [
    "def swap_elements(lst, index1, index2):\n",
    "    if 0 <= index1 < len(lst) and 0 <= index2 < len(lst):\n",
    "        lst[index1], lst[index2] = lst[index2], lst[index1]          # Swap the elements\n",
    "\n",
    "\n",
    "list_1 = [1, 2, 3, 4, 5]   # Sample List\n",
    "\n",
    "index1 = 1\n",
    "index2 = 3         # Indices to swap\n",
    "\n",
    "swap_elements(list_1, index1, index2)     # Swapping the elements\n",
    "print(list_1)    # Print the final result"
   ]
  },
  {
   "cell_type": "markdown",
   "metadata": {},
   "source": [
    "## Tuple Based Problem "
   ]
  },
  {
   "cell_type": "markdown",
   "metadata": {},
   "source": [
    "### Question 1. Create a tuple with integers from 1 to 5."
   ]
  },
  {
   "cell_type": "code",
   "execution_count": 115,
   "metadata": {},
   "outputs": [
    {
     "data": {
      "text/plain": [
       "tuple"
      ]
     },
     "execution_count": 115,
     "metadata": {},
     "output_type": "execute_result"
    }
   ],
   "source": [
    "tuple_1 = (1,2,3,4,5)\n",
    "type(tuple_1)"
   ]
  },
  {
   "cell_type": "markdown",
   "metadata": {},
   "source": [
    "### Question 2. Access the third element of a tuple."
   ]
  },
  {
   "cell_type": "code",
   "execution_count": 116,
   "metadata": {},
   "outputs": [
    {
     "name": "stdout",
     "output_type": "stream",
     "text": [
      "3\n"
     ]
    }
   ],
   "source": [
    "tuple_1 = (1,2,3,4,5)     # Entering the value in the tuple\n",
    "\n",
    "final_num =  tuple_1[2]  # Accesing the third element from the tuple as index start from ZERO\n",
    "\n",
    "print(final_num)"
   ]
  },
  {
   "cell_type": "markdown",
   "metadata": {},
   "source": [
    "### Question 3. Find the length of a tuple without using the `len()` function."
   ]
  },
  {
   "cell_type": "code",
   "execution_count": 118,
   "metadata": {},
   "outputs": [
    {
     "name": "stdout",
     "output_type": "stream",
     "text": [
      " The length of the tuple is  : 10 \n"
     ]
    }
   ],
   "source": [
    "def tuple_length(tuple_1):\n",
    "    count = 0\n",
    "    for _ in tuple_1:\n",
    "        count +=1\n",
    "    return count\n",
    "\n",
    "tuple_1 = (1,2,3,4,5,6,7,8,9,10)\n",
    "\n",
    "final_result = tuple_length(tuple_1)\n",
    "print (f\" The length of the tuple is  : {final_result} \")"
   ]
  },
  {
   "cell_type": "markdown",
   "metadata": {},
   "source": [
    "### Question 4. Count the occurrences of an element in a tuple."
   ]
  },
  {
   "cell_type": "code",
   "execution_count": 119,
   "metadata": {},
   "outputs": [
    {
     "name": "stdout",
     "output_type": "stream",
     "text": [
      " The element 5 appears 2 times in the tuple.\n"
     ]
    }
   ],
   "source": [
    "def count_occurence( tuple, element):\n",
    "    count = 0 \n",
    "    for item in tuple_1:\n",
    "            if item == element:\n",
    "                count += 1\n",
    "    return count\n",
    "    \n",
    "tuple_1 = (1,2,3,4,5,6,5,6,3)\n",
    "element_to_count = 5\n",
    "occurences = count_occurence ( tuple_1, element_to_count)\n",
    "print (f\" The element {element_to_count} appears {occurences} times in the tuple.\")"
   ]
  },
  {
   "cell_type": "markdown",
   "metadata": {},
   "source": [
    "### Question 5. Find the index of the first occurrence of an element in a tuple."
   ]
  },
  {
   "cell_type": "code",
   "execution_count": 120,
   "metadata": {},
   "outputs": [
    {
     "name": "stdout",
     "output_type": "stream",
     "text": [
      "The first occurrence of 5 is at index 4.\n"
     ]
    }
   ],
   "source": [
    "def occurrence_index(tuple_1, element):\n",
    "    for index, item in enumerate(tuple_1):\n",
    "        if item == element:\n",
    "            return index\n",
    "    return -1  # Return -1 if the element is not found in the tuple\n",
    "\n",
    "tuple_1 = (1,2,3,4,5,6,5,6,3)\n",
    "element_to_find = 5\n",
    "index = occurrence_index(tuple_1, element_to_find)\n",
    "\n",
    "if index != -1:\n",
    "    print(f\"The first occurrence of {element_to_find} is at index {index}.\")\n",
    "else:\n",
    "    print(f\"{element_to_find} is not found in the tuple.\")"
   ]
  },
  {
   "cell_type": "markdown",
   "metadata": {},
   "source": [
    "### Question 6. Check if an element exists in a tuple."
   ]
  },
  {
   "cell_type": "code",
   "execution_count": 121,
   "metadata": {},
   "outputs": [
    {
     "name": "stdout",
     "output_type": "stream",
     "text": [
      " The element 5 is present in the tuple.\n"
     ]
    }
   ],
   "source": [
    "def element_existence( tuple_1, element_to_find):\n",
    "    for item in tuple_1:\n",
    "            if item == element_to_find:\n",
    "                return item\n",
    "    \n",
    "tuple_1 = (1,2,3,4,5,6,5,6,3)\n",
    "element_to_find = 5\n",
    "occurences = element_existence ( tuple_1, element_to_find)\n",
    "print (f\" The element {element_to_count} is present in the tuple.\")"
   ]
  },
  {
   "cell_type": "markdown",
   "metadata": {},
   "source": [
    "### Question 7. Convert a tuple to a list."
   ]
  },
  {
   "cell_type": "code",
   "execution_count": 122,
   "metadata": {},
   "outputs": [
    {
     "name": "stdout",
     "output_type": "stream",
     "text": [
      "Tuple: (1, 2, 3, 4, 5, 6, 7, 8, 9, 20)\n",
      "List: [1, 2, 3, 4, 5, 6, 7, 8, 9, 20]\n"
     ]
    }
   ],
   "source": [
    "tuple_1 = (1,2,3,4,5,6,7,8,9,20)\n",
    "list_1 = list(tuple_1)\n",
    "\n",
    "print (\"Tuple:\" , tuple_1)\n",
    "print (\"List:\" , list_1)"
   ]
  },
  {
   "cell_type": "markdown",
   "metadata": {},
   "source": [
    "### Question 8. Convert a list to a tuple."
   ]
  },
  {
   "cell_type": "code",
   "execution_count": 123,
   "metadata": {},
   "outputs": [
    {
     "name": "stdout",
     "output_type": "stream",
     "text": [
      "List: [1, 2, 3, 4, 5, 6, 7, 8, 9, 10]\n",
      "Tuple :  (1, 2, 3, 4, 5, 6, 7, 8, 9, 10)\n"
     ]
    }
   ],
   "source": [
    "list_1 = [1,2,3,4,5,6,7,8,9,10 ]\n",
    "Tuple_1 = tuple(list_1)\n",
    "\n",
    "print (\"List:\" , list_1 )\n",
    "print ( \"Tuple : \" , Tuple_1 )"
   ]
  },
  {
   "cell_type": "markdown",
   "metadata": {},
   "source": [
    "### Question 9. Unpack the elements of a tuple into variables."
   ]
  },
  {
   "cell_type": "code",
   "execution_count": 125,
   "metadata": {},
   "outputs": [
    {
     "name": "stdout",
     "output_type": "stream",
     "text": [
      "var1: 1\n",
      "var2: 2\n",
      "var3: 3\n",
      "var4: 4\n",
      "var5: 5\n"
     ]
    }
   ],
   "source": [
    "Tuple_1 = (1,2,3,4,5)\n",
    "var1, var2, var3, var4, var5 = Tuple_1\n",
    "print(\"var1:\", var1)\n",
    "print(\"var2:\", var2)\n",
    "print(\"var3:\", var3)\n",
    "print(\"var4:\", var4)\n",
    "print(\"var5:\", var5)"
   ]
  },
  {
   "cell_type": "markdown",
   "metadata": {},
   "source": [
    "### Question 10. Create a tuple of even numbers from 1 to 10."
   ]
  },
  {
   "cell_type": "code",
   "execution_count": 126,
   "metadata": {},
   "outputs": [
    {
     "name": "stdout",
     "output_type": "stream",
     "text": [
      "(2, 4, 6, 8, 10)\n"
     ]
    }
   ],
   "source": [
    "even_num = tuple([x for x in range(1,11) if x % 2 == 0])\n",
    "print(even_num)"
   ]
  },
  {
   "cell_type": "markdown",
   "metadata": {},
   "source": [
    "### Question 11. Create a tuple of odd numbers from 1 to 10."
   ]
  },
  {
   "cell_type": "code",
   "execution_count": 127,
   "metadata": {},
   "outputs": [
    {
     "name": "stdout",
     "output_type": "stream",
     "text": [
      "(1, 3, 5, 7, 9)\n"
     ]
    }
   ],
   "source": [
    "odd_num = tuple([x for x in range (1,11) if x % 2 != 0])\n",
    "print(odd_num)"
   ]
  },
  {
   "cell_type": "markdown",
   "metadata": {},
   "source": [
    "### Question 12. Concatenate two tuples."
   ]
  },
  {
   "cell_type": "code",
   "execution_count": 128,
   "metadata": {},
   "outputs": [
    {
     "name": "stdout",
     "output_type": "stream",
     "text": [
      "(1, 2, 3, 4, 5, 56, 6, 7, 8, 6, 5, 3)\n"
     ]
    }
   ],
   "source": [
    "tup_1 = (1,2,3,4,5,56,6)    # First tuple\n",
    "tup_2 = (7,8,6,5,3)         # second tuple\n",
    "final_tup = tup_1 + tup_2     # lets merge the two tuples together\n",
    "print(final_tup)               #  printing the final result"
   ]
  },
  {
   "cell_type": "markdown",
   "metadata": {},
   "source": [
    "### Question 13. Repeat a tuple three times."
   ]
  },
  {
   "cell_type": "code",
   "execution_count": 129,
   "metadata": {},
   "outputs": [
    {
     "name": "stdout",
     "output_type": "stream",
     "text": [
      "(1, 2, 3, 4, 5, 6, 1, 2, 3, 4, 5, 6, 1, 2, 3, 4, 5, 6)\n"
     ]
    }
   ],
   "source": [
    "tup = (1,2,3,4,5,6)\n",
    "final_tup = 3*tup\n",
    "print(final_tup)"
   ]
  },
  {
   "cell_type": "markdown",
   "metadata": {},
   "source": [
    "### Question 14. Check if a tuple is empty."
   ]
  },
  {
   "cell_type": "code",
   "execution_count": 130,
   "metadata": {},
   "outputs": [
    {
     "name": "stdout",
     "output_type": "stream",
     "text": [
      "The tuple is empty\n"
     ]
    }
   ],
   "source": [
    "tup_1 = ()  # Initiate the empty tuple\n",
    "\n",
    "if len(tup_1) == 0:\n",
    "    print(\"The tuple is empty\")\n",
    "else:\n",
    "    print(\"The Tumple is not empty\")"
   ]
  },
  {
   "cell_type": "markdown",
   "metadata": {},
   "source": [
    "### Question 15. Create a nested tuple."
   ]
  },
  {
   "cell_type": "code",
   "execution_count": 131,
   "metadata": {},
   "outputs": [
    {
     "name": "stdout",
     "output_type": "stream",
     "text": [
      "((1, 2, 3), (4, 5, 6), (7, 8, 9))\n"
     ]
    }
   ],
   "source": [
    "nested_tuple = ((1, 2, 3), (4, 5, 6), (7, 8, 9))\n",
    "\n",
    "print(nested_tuple)"
   ]
  },
  {
   "cell_type": "markdown",
   "metadata": {},
   "source": [
    "### Question 16. Access the first element of a nested tuple."
   ]
  },
  {
   "cell_type": "code",
   "execution_count": 132,
   "metadata": {},
   "outputs": [
    {
     "name": "stdout",
     "output_type": "stream",
     "text": [
      "1\n"
     ]
    }
   ],
   "source": [
    "tup_1 = ((1,2), (3,5), (6,7,8,9))\n",
    "\n",
    "first_element = tup_1[0][0]\n",
    "print(first_element)"
   ]
  },
  {
   "cell_type": "markdown",
   "metadata": {},
   "source": [
    "### Question 17. Create a tuple with a single element."
   ]
  },
  {
   "cell_type": "code",
   "execution_count": 133,
   "metadata": {},
   "outputs": [
    {
     "name": "stdout",
     "output_type": "stream",
     "text": [
      "1\n"
     ]
    }
   ],
   "source": [
    "tup_1 = (1)\n",
    "print(tup_1)"
   ]
  },
  {
   "cell_type": "markdown",
   "metadata": {},
   "source": [
    "### Question 18. Compare two tuples."
   ]
  },
  {
   "cell_type": "code",
   "execution_count": 134,
   "metadata": {},
   "outputs": [
    {
     "name": "stdout",
     "output_type": "stream",
     "text": [
      "The tuples are not equal\n"
     ]
    }
   ],
   "source": [
    "tup_1 = (1,2,3,4,5,6,)\n",
    "tup_2 = (2,5,6,7,8,9,0)\n",
    "\n",
    "if tup_1 == tup_2:\n",
    "    print (\"The tuples are equal\")\n",
    "else:\n",
    "    print (\"The tuples are not equal\")"
   ]
  },
  {
   "cell_type": "markdown",
   "metadata": {},
   "source": [
    "### Question 19. Delete a tuple."
   ]
  },
  {
   "cell_type": "code",
   "execution_count": 135,
   "metadata": {},
   "outputs": [
    {
     "name": "stdout",
     "output_type": "stream",
     "text": [
      "None\n"
     ]
    }
   ],
   "source": [
    "tup_1 = (1,2,3,4,4,5,5)\n",
    "tup_1 = None\n",
    "print(tup_1)"
   ]
  },
  {
   "cell_type": "markdown",
   "metadata": {},
   "source": [
    "### Question 20. Slice a tuple."
   ]
  },
  {
   "cell_type": "code",
   "execution_count": 136,
   "metadata": {},
   "outputs": [
    {
     "name": "stdout",
     "output_type": "stream",
     "text": [
      "(4, 5, 6, 7, 8)\n"
     ]
    }
   ],
   "source": [
    "tup_1 = (1,23,4,5,6,7,8,8,9,0)   # Enter the tuple\n",
    "sliced_tup = tup_1[2:7]          # indexing of tuple \n",
    "print(sliced_tup)"
   ]
  },
  {
   "cell_type": "markdown",
   "metadata": {},
   "source": [
    "### Question 21. Find the maximum value in a tuple."
   ]
  },
  {
   "cell_type": "code",
   "execution_count": 137,
   "metadata": {},
   "outputs": [
    {
     "name": "stdout",
     "output_type": "stream",
     "text": [
      "23\n"
     ]
    }
   ],
   "source": [
    "tup_1 = (1,23,4,5,6,7,8,8,9,0)   # Enter the tuple\n",
    "maximum = max (tup_1)          # max function to check the biggest value in the tuple\n",
    "print(maximum)"
   ]
  },
  {
   "cell_type": "markdown",
   "metadata": {},
   "source": [
    "### Question 22. Find the minimum value in a tuple."
   ]
  },
  {
   "cell_type": "code",
   "execution_count": 138,
   "metadata": {},
   "outputs": [
    {
     "name": "stdout",
     "output_type": "stream",
     "text": [
      "0\n"
     ]
    }
   ],
   "source": [
    "tup_1 = (1,23,4,5,6,7,8,8,9,0)   # Enter the tuple\n",
    "minimum = min (tup_1)          #  min function to check the biggest value in the tuple \n",
    "print(minimum)"
   ]
  },
  {
   "cell_type": "markdown",
   "metadata": {},
   "source": [
    "### Question 23. Convert a string to a tuple of characters."
   ]
  },
  {
   "cell_type": "code",
   "execution_count": 139,
   "metadata": {},
   "outputs": [
    {
     "name": "stdout",
     "output_type": "stream",
     "text": [
      "('M', 'y', ' ', 'n', 'a', 'm', 'e', ' ', 'i', 's', ' ', 'A', 'b', 'h', 'i', 'm', 'a', 'n', 'y', 'u', ' ', 's', 'h', 'a', 'r', 'm', 'a')\n"
     ]
    }
   ],
   "source": [
    "string_1 =  \"My name is Abhimanyu sharma\"    # Enter the string\n",
    "tup_1 = tuple(string_1)   # tuple function to covert the string into tuple\n",
    "print(tup_1)  # printing the final tuple"
   ]
  },
  {
   "cell_type": "markdown",
   "metadata": {},
   "source": [
    "### Question 24. Convert a tuple of characters to a string."
   ]
  },
  {
   "cell_type": "code",
   "execution_count": 140,
   "metadata": {},
   "outputs": [
    {
     "name": "stdout",
     "output_type": "stream",
     "text": [
      "my Name is Abhimanyu Sharma\n"
     ]
    },
    {
     "data": {
      "text/plain": [
       "str"
      ]
     },
     "execution_count": 140,
     "metadata": {},
     "output_type": "execute_result"
    }
   ],
   "source": [
    "tup_1 = ( \"my\", \"Name\" , \"is\" ,  \"Abhimanyu\", \"Sharma\")\n",
    "string_1 = \" \". join(tup_1)\n",
    "print(string_1)\n",
    "type(string_1)"
   ]
  },
  {
   "cell_type": "markdown",
   "metadata": {},
   "source": [
    "### Question 25. Create a tuple from multiple data types."
   ]
  },
  {
   "cell_type": "code",
   "execution_count": 141,
   "metadata": {},
   "outputs": [
    {
     "name": "stdout",
     "output_type": "stream",
     "text": [
      "('My', 'Name', 'Brisbane', '4567733', '44.55')\n"
     ]
    }
   ],
   "source": [
    "tup_1 = (\"My\", \"Name\" , \"Brisbane\" , \"4567733\", \"44.55\")\n",
    "print(tup_1)"
   ]
  },
  {
   "cell_type": "markdown",
   "metadata": {},
   "source": [
    "### Question 26. Check if two tuples are identical."
   ]
  },
  {
   "cell_type": "code",
   "execution_count": 142,
   "metadata": {},
   "outputs": [
    {
     "name": "stdout",
     "output_type": "stream",
     "text": [
      "The tuples are not identical\n"
     ]
    }
   ],
   "source": [
    "tup_1 = (1,2,3,4,5,6,7)\n",
    "tup_2 = (1,2,3,4,4,5,7)\n",
    "\n",
    "if tup_1 == tup_2:\n",
    "    print(\"The tuples are identical\")\n",
    "else:\n",
    "    print(\"The tuples are not identical\")"
   ]
  },
  {
   "cell_type": "markdown",
   "metadata": {},
   "source": [
    "### Question 27. Sort the elements of a tuple."
   ]
  },
  {
   "cell_type": "code",
   "execution_count": 143,
   "metadata": {},
   "outputs": [
    {
     "name": "stdout",
     "output_type": "stream",
     "text": [
      "(1, 3, 3, 4, 5, 5, 6, 6, 7, 11, 14, 32, 67)\n"
     ]
    },
    {
     "data": {
      "text/plain": [
       "tuple"
      ]
     },
     "execution_count": 143,
     "metadata": {},
     "output_type": "execute_result"
    }
   ],
   "source": [
    "tup_1 = (4,5,6,7,3,3,5,6,32,14,67,11,1)\n",
    "list_1= sorted(tup_1)\n",
    "final_tup = tuple(list_1)\n",
    "print(final_tup)\n",
    "type(final_tup)"
   ]
  },
  {
   "cell_type": "markdown",
   "metadata": {},
   "source": [
    "### Question 28. Convert a tuple of integers to a tuple of strings."
   ]
  },
  {
   "cell_type": "code",
   "execution_count": 144,
   "metadata": {},
   "outputs": [
    {
     "name": "stdout",
     "output_type": "stream",
     "text": [
      "(4, 5, 6, 7, 3, 3, 5, 6, 32, 14, 67, 11, 1)\n"
     ]
    },
    {
     "data": {
      "text/plain": [
       "str"
      ]
     },
     "execution_count": 144,
     "metadata": {},
     "output_type": "execute_result"
    }
   ],
   "source": [
    "tup_1 = (4,5,6,7,3,3,5,6,32,14,67,11,1)\n",
    "string_1 = str(tup_1)\n",
    "print(string_1)\n",
    "type(string_1)"
   ]
  },
  {
   "cell_type": "markdown",
   "metadata": {},
   "source": [
    "### Question 29. Convert a tuple of strings to a tuple of integers."
   ]
  },
  {
   "cell_type": "code",
   "execution_count": 145,
   "metadata": {},
   "outputs": [
    {
     "name": "stdout",
     "output_type": "stream",
     "text": [
      "(4, 5, 6, 7, 3, 3, 5, 6, 32, 14, 67, 11, 1)\n"
     ]
    }
   ],
   "source": [
    "tup_1 = (\"4\",\"5\",\"6\",\"7\",\"3\",\"3\",\"5\",\"6\",\"32\",\"14\",\"67\",\"11\",\"1\")\n",
    "final_tup = tuple(int(x) for x in tup_1)\n",
    "print(final_tup)"
   ]
  },
  {
   "cell_type": "markdown",
   "metadata": {},
   "source": [
    "### Question 30. Merge two tuples."
   ]
  },
  {
   "cell_type": "code",
   "execution_count": 146,
   "metadata": {},
   "outputs": [
    {
     "name": "stdout",
     "output_type": "stream",
     "text": [
      "(1, 2, 3, 4, 5, 5, 5, 3, 4, 5, 5, 3, 223, 4, 21)\n"
     ]
    }
   ],
   "source": [
    "tup_1 = (1,2,3,4,5,5,5)   # Enter data in tuple 1\n",
    "tup_2 = (3,4,5,5,3,223,4,21)  # Enter data in tuple 2\n",
    "final_tup = tup_1 + tup_2     # Merger the two tuples by adding them\n",
    "print(final_tup)   # printing the final result"
   ]
  },
  {
   "cell_type": "markdown",
   "metadata": {},
   "source": [
    "### Question 31. Flatten a nested tuple."
   ]
  },
  {
   "cell_type": "code",
   "execution_count": 147,
   "metadata": {},
   "outputs": [
    {
     "name": "stdout",
     "output_type": "stream",
     "text": [
      "(2, 3, 4, 3, 4, 5, 3, 333, 244, 4, 5, 6)\n"
     ]
    }
   ],
   "source": [
    "def flatten_tuple(tup_1):     # defining the function for flatten tuple\n",
    "    \n",
    "    flattend = []   # initiating the blank list\n",
    "    \n",
    "    for item in tup_1:\n",
    "        if isinstance (item, tuple):\n",
    "            flattend.extend(flatten_tuple(item))\n",
    "        else:\n",
    "            flattend.append(item)\n",
    "    return flattend\n",
    "\n",
    "tup_1 = ((2,3,4,),(3,4,5,3),(333,244,4,5,6,))\n",
    "\n",
    "final_tup = tuple(flatten_tuple(tup_1))\n",
    "\n",
    "print(final_tup)\n"
   ]
  },
  {
   "cell_type": "markdown",
   "metadata": {},
   "source": [
    "### Question 32. Create a tuple of the first 5 prime numbers."
   ]
  },
  {
   "cell_type": "code",
   "execution_count": 148,
   "metadata": {},
   "outputs": [
    {
     "name": "stdout",
     "output_type": "stream",
     "text": [
      "(2, 3, 5, 7, 11)\n"
     ]
    }
   ],
   "source": [
    "def prime_num (num):\n",
    "    if num < 1 :\n",
    "        return False\n",
    "    \n",
    "    for i in range(2, int(num*0.5) + 1 ):\n",
    "        if num % i == 0:\n",
    "            return False\n",
    "    return True\n",
    "\n",
    "prime_numbers = tuple(num for num in range (2,12) if prime_num(num))\n",
    "print(prime_numbers)\n",
    "       "
   ]
  },
  {
   "cell_type": "markdown",
   "metadata": {},
   "source": [
    "### Question 33. Check if a tuple is a palindrome."
   ]
  },
  {
   "cell_type": "code",
   "execution_count": 149,
   "metadata": {},
   "outputs": [
    {
     "name": "stdout",
     "output_type": "stream",
     "text": [
      "True\n",
      "False\n"
     ]
    }
   ],
   "source": [
    "def is_palindrome(my_tuple):\n",
    "    return my_tuple == my_tuple[::-1]\n",
    "\n",
    "tup_1 = (1, 2, 3, 2, 1)\n",
    "tup_2 = (1, 2, 3, 4, 5)\n",
    "\n",
    "print(is_palindrome(tup_1))  # True\n",
    "print(is_palindrome(tup_2))  # False"
   ]
  },
  {
   "cell_type": "markdown",
   "metadata": {},
   "source": [
    "### Question 34. Create a tuple of squares of numbers from 1 to 5."
   ]
  },
  {
   "cell_type": "code",
   "execution_count": 150,
   "metadata": {},
   "outputs": [
    {
     "name": "stdout",
     "output_type": "stream",
     "text": [
      "(1, 4, 9, 16, 25)\n"
     ]
    }
   ],
   "source": [
    "tup_1 = (1,2,3,4,5)\n",
    "squared_tup = tuple(x**2 for x in tup_1)\n",
    "\n",
    "print(squared_tup)"
   ]
  },
  {
   "cell_type": "markdown",
   "metadata": {},
   "source": [
    "### Question 35. Filter out all even numbers from a tuple."
   ]
  },
  {
   "cell_type": "code",
   "execution_count": 151,
   "metadata": {},
   "outputs": [
    {
     "name": "stdout",
     "output_type": "stream",
     "text": [
      "(2, 4, 6, 8, 8, 4, 6, 34)\n"
     ]
    }
   ],
   "source": [
    "tup_1 = (1,2,3,3,4,5,6,7,8,8,4,3,6,531,11,34)\n",
    "even_tup = tuple(x for x in tup_1 if x % 2 == 0)\n",
    "print(even_tup)"
   ]
  },
  {
   "cell_type": "markdown",
   "metadata": {},
   "source": [
    "### Question 36. Multiply all elements in a tuple by 2."
   ]
  },
  {
   "cell_type": "code",
   "execution_count": 152,
   "metadata": {},
   "outputs": [
    {
     "name": "stdout",
     "output_type": "stream",
     "text": [
      "(2, 4, 6, 8, 10)\n"
     ]
    }
   ],
   "source": [
    "tup_1 = (1,2,3,4,5)\n",
    "final_tup = tuple(x*2 for x in tup_1)\n",
    "\n",
    "print(final_tup)"
   ]
  },
  {
   "cell_type": "markdown",
   "metadata": {},
   "source": [
    "### Question 37. Create a tuple of random numbers."
   ]
  },
  {
   "cell_type": "code",
   "execution_count": 153,
   "metadata": {},
   "outputs": [
    {
     "name": "stdout",
     "output_type": "stream",
     "text": [
      "(12, 5, 17, 1, 1, 12, 3, 18, 18, 19, 13, 16, 11, 6, 14, 14, 2, 11, 5, 12)\n"
     ]
    }
   ],
   "source": [
    "import random \n",
    "\n",
    "random_tup = tuple(random.randint(1,20) for _ in range(20) )\n",
    "print(random_tup)"
   ]
  },
  {
   "cell_type": "markdown",
   "metadata": {},
   "source": [
    "### Question 38. Check if a tuple is sorted."
   ]
  },
  {
   "cell_type": "code",
   "execution_count": 154,
   "metadata": {},
   "outputs": [
    {
     "name": "stdout",
     "output_type": "stream",
     "text": [
      "False\n",
      "True\n"
     ]
    }
   ],
   "source": [
    "def is_sorted(tuple_1):\n",
    "    return tuple_1 == tuple(sorted(tuple_1))\n",
    "\n",
    "tup_1 = (1,2,3,4,2,44,1)\n",
    "tup_2 = (1,2,3,4,5,6,7,8,9)\n",
    "\n",
    "print(is_sorted(tup_1))\n",
    "print(is_sorted(tup_2))"
   ]
  },
  {
   "cell_type": "markdown",
   "metadata": {},
   "source": [
    "### Question 39. Rotate a tuple to the left by `n` positions."
   ]
  },
  {
   "cell_type": "code",
   "execution_count": 155,
   "metadata": {},
   "outputs": [
    {
     "name": "stdout",
     "output_type": "stream",
     "text": [
      "(4, 5, 1, 2, 3)\n"
     ]
    }
   ],
   "source": [
    "def rotate_left(tuple_to_rotate, n):\n",
    "    n = n % len(tuple_to_rotate)\n",
    "    \n",
    "    rotated_tuple = tuple_to_rotate[n:] + tuple_to_rotate[:n]\n",
    "    \n",
    "    return rotated_tuple\n",
    "\n",
    "tup_1 = (1, 2, 3, 4, 5)\n",
    "\n",
    "rotated_tuple = rotate_left(tup_1, 3)\n",
    "\n",
    "print(rotated_tuple)"
   ]
  },
  {
   "cell_type": "markdown",
   "metadata": {},
   "source": [
    "### Question 40. Rotate a tuple to the right by `n` positions."
   ]
  },
  {
   "cell_type": "code",
   "execution_count": 156,
   "metadata": {},
   "outputs": [
    {
     "name": "stdout",
     "output_type": "stream",
     "text": [
      "(4, 5, 1, 2, 3)\n"
     ]
    }
   ],
   "source": [
    "def rotate_right(tuple_to_rotate, n):\n",
    "    n = n % len(tuple_to_rotate)\n",
    "    \n",
    "    rotated_tuple = tuple_to_rotate[-n:] + tuple_to_rotate[:-n]\n",
    "    \n",
    "    return rotated_tuple\n",
    "\n",
    "tup_1 = (1, 2, 3, 4, 5)\n",
    "\n",
    "rotated_tuple = rotate_right(tup_1, 2)\n",
    "\n",
    "print(rotated_tuple)"
   ]
  },
  {
   "cell_type": "markdown",
   "metadata": {},
   "source": [
    "### Question 41. Create a tuple of the first 5 Fibonacci numbers."
   ]
  },
  {
   "cell_type": "code",
   "execution_count": 157,
   "metadata": {},
   "outputs": [
    {
     "name": "stdout",
     "output_type": "stream",
     "text": [
      "The first 5 fibonacci numbers are : (0, 1, 1, 2, 3) \n"
     ]
    }
   ],
   "source": [
    "def  fib_num ():\n",
    "    fibonacci_num = [0,1]\n",
    "    \n",
    "    while len(fibonacci_num) <5 :\n",
    "        num = fibonacci_num[-1] + fibonacci_num[-2]\n",
    "        fibonacci_num.append(num)\n",
    "    return tuple((fibonacci_num))\n",
    "\n",
    "first_5 = fib_num()\n",
    "print(f\"The first 5 fibonacci numbers are : {first_5} \")\n"
   ]
  },
  {
   "cell_type": "markdown",
   "metadata": {},
   "source": [
    "### Question 42. Create a tuple from user input."
   ]
  },
  {
   "cell_type": "code",
   "execution_count": 158,
   "metadata": {},
   "outputs": [
    {
     "name": "stdout",
     "output_type": "stream",
     "text": [
      "please enter the data seperated by commas : hello , my , name , is , abhimanyu , sharma\n",
      "('hello ', ' my ', ' name ', ' is ', ' abhimanyu ', ' sharma')\n"
     ]
    }
   ],
   "source": [
    "user_inp = input(\"please enter the data seperated by commas : \")\n",
    "user_list = user_inp.split(\",\")\n",
    "\n",
    "tup_1 = tuple(user_list)\n",
    "print(tup_1)"
   ]
  },
  {
   "cell_type": "markdown",
   "metadata": {},
   "source": [
    "### Question 43. Swap two elements in a tuple."
   ]
  },
  {
   "cell_type": "code",
   "execution_count": 159,
   "metadata": {},
   "outputs": [
    {
     "name": "stdout",
     "output_type": "stream",
     "text": [
      "(1, 2, 9, 4, 5, 6, 7, 8, 3, 10)\n"
     ]
    }
   ],
   "source": [
    "tup_1 = (1,2,3,4,5,6,7,8,9,10)\n",
    "\n",
    "index1= 2\n",
    "index7 = 8\n",
    "\n",
    "tup_1_list = list(tup_1)   # converting the tuple into list for indexing function\n",
    "\n",
    "\n",
    "temp = tup_1_list[index1]\n",
    "tup_1_list[index1] = tup_1_list[index7]\n",
    "tup_1_list[index7] = temp\n",
    "\n",
    "swapped_tuple = tuple(tup_1_list)\n",
    "\n",
    "print(swapped_tuple)\n"
   ]
  },
  {
   "cell_type": "markdown",
   "metadata": {},
   "source": [
    "### Question 44. Reverse the elements of a tuple."
   ]
  },
  {
   "cell_type": "code",
   "execution_count": 160,
   "metadata": {},
   "outputs": [
    {
     "name": "stdout",
     "output_type": "stream",
     "text": [
      "(10, 9, 8, 7, 6, 5, 4, 3, 2, 1)\n"
     ]
    }
   ],
   "source": [
    "tup_1 = (1,2,3,4,5,6,7,8,9,10)    # Enter the tuple data\n",
    "\n",
    "reversed_tup = tup_1[::-1]      # reverse indexing to reverse the tuple\n",
    "\n",
    "print(reversed_tup)"
   ]
  },
  {
   "cell_type": "markdown",
   "metadata": {},
   "source": [
    "### Question 45. Create a tuple of the first `n` powers of 2."
   ]
  },
  {
   "cell_type": "code",
   "execution_count": 161,
   "metadata": {},
   "outputs": [
    {
     "name": "stdout",
     "output_type": "stream",
     "text": [
      "(1, 2, 4, 8, 16, 32, 64, 128, 256, 512)\n"
     ]
    }
   ],
   "source": [
    "n = 10 # initiating the number value to 10 \n",
    "powers_of_2 = tuple(2 ** i for i in range(n))\n",
    "\n",
    "print(powers_of_2)"
   ]
  },
  {
   "cell_type": "markdown",
   "metadata": {},
   "source": [
    "### Question 46. Find the longest string in a tuple of strings."
   ]
  },
  {
   "cell_type": "code",
   "execution_count": 162,
   "metadata": {},
   "outputs": [
    {
     "name": "stdout",
     "output_type": "stream",
     "text": [
      "The longest string is : Abhimanyu\n"
     ]
    }
   ],
   "source": [
    "string_tup = (\"Abhimanyu\", \"sharma\", \"sangeeta\", \"gosain\" , \"Brisbane\")\n",
    "\n",
    "longest_string = \" \"\n",
    "\n",
    "for string in string_tup:\n",
    "    if len(string)> len(longest_string):\n",
    "        longest_string = string\n",
    "        \n",
    "print(f\"The longest string is : {longest_string}\")"
   ]
  },
  {
   "cell_type": "markdown",
   "metadata": {},
   "source": [
    "### Question 47. Find the shortest string in a tuple of strings."
   ]
  },
  {
   "cell_type": "code",
   "execution_count": 163,
   "metadata": {},
   "outputs": [
    {
     "name": "stdout",
     "output_type": "stream",
     "text": [
      "The shortest_string is: sharma\n"
     ]
    }
   ],
   "source": [
    "string_tup = (\"Abhimanyu\", \"sharma\", \"sangeeta\", \"gosain\", \"Brisbane\")\n",
    "\n",
    "shortest_string = string_tup[0]\n",
    "\n",
    "for string in string_tup:\n",
    "    if len(string) < len(shortest_string):\n",
    "        shortest_string = string\n",
    "\n",
    "print(f\"The shortest_string is: {shortest_string}\")"
   ]
  },
  {
   "cell_type": "markdown",
   "metadata": {},
   "source": [
    "### Question 48. Create a tuple of the first `n` triangular numbers."
   ]
  },
  {
   "cell_type": "code",
   "execution_count": 164,
   "metadata": {},
   "outputs": [
    {
     "name": "stdout",
     "output_type": "stream",
     "text": [
      "(1, 3, 6, 10, 15, 21, 28, 36, 45, 55)\n"
     ]
    }
   ],
   "source": [
    "n = 10\n",
    "triangular_numbers = []\n",
    "sum = 0\n",
    "\n",
    "for i in range(1, n + 1):\n",
    "    sum += i\n",
    "    triangular_numbers.append(sum)\n",
    "\n",
    "triangular_tuple = tuple(triangular_numbers)\n",
    "\n",
    "print(triangular_tuple)"
   ]
  },
  {
   "cell_type": "markdown",
   "metadata": {},
   "source": [
    "### Question 49. Check if a tuple contains another tuple as a subsequence."
   ]
  },
  {
   "cell_type": "code",
   "execution_count": 165,
   "metadata": {},
   "outputs": [
    {
     "name": "stdout",
     "output_type": "stream",
     "text": [
      "Main tuple contains the subsequence.\n"
     ]
    }
   ],
   "source": [
    "def contains_subsequence(main_tuple, sub_tuple):\n",
    "\n",
    "    for i in range(len(main_tuple) - len(sub_tuple) + 1):\n",
    "\n",
    "        if main_tuple[i:i + len(sub_tuple)] == sub_tuple:\n",
    "            return True\n",
    "    return False\n",
    "\n",
    "main_tuple = (1, 2, 3, 4, 5, 6, 7)\n",
    "sub_tuple = (3, 4, 5)\n",
    "\n",
    "if contains_subsequence(main_tuple, sub_tuple):\n",
    "    print(\"Main tuple contains the subsequence.\")\n",
    "else:\n",
    "    print(\"Main tuple does not contain the subsequence.\")\n",
    "    "
   ]
  },
  {
   "cell_type": "markdown",
   "metadata": {},
   "source": [
    "### Question 50. Create a tuple of alternating 1s and 0s of length `n`."
   ]
  },
  {
   "cell_type": "code",
   "execution_count": 166,
   "metadata": {},
   "outputs": [
    {
     "name": "stdout",
     "output_type": "stream",
     "text": [
      "(1, 0, 1, 0, 1, 0, 1, 0, 1, 0)\n"
     ]
    }
   ],
   "source": [
    "n = 10  # Change 'n' to the desired length\n",
    "alternating_tuple = tuple(1 if i % 2 == 0 else 0 for i in range(n))\n",
    "\n",
    "print(alternating_tuple)"
   ]
  },
  {
   "cell_type": "markdown",
   "metadata": {},
   "source": [
    "## Set Based Problem "
   ]
  },
  {
   "cell_type": "markdown",
   "metadata": {},
   "source": [
    "### Question 1. Create a set with integers from 1 to 5."
   ]
  },
  {
   "cell_type": "code",
   "execution_count": 167,
   "metadata": {},
   "outputs": [
    {
     "name": "stdout",
     "output_type": "stream",
     "text": [
      "{1, 2, 3, 4, 5}\n"
     ]
    },
    {
     "data": {
      "text/plain": [
       "set"
      ]
     },
     "execution_count": 167,
     "metadata": {},
     "output_type": "execute_result"
    }
   ],
   "source": [
    "set_1 = {1,2,3,4,5}\n",
    "print(set_1)\n",
    "type(set_1)"
   ]
  },
  {
   "cell_type": "markdown",
   "metadata": {},
   "source": [
    "### Question 2. Add an element to a set."
   ]
  },
  {
   "cell_type": "code",
   "execution_count": 168,
   "metadata": {},
   "outputs": [
    {
     "name": "stdout",
     "output_type": "stream",
     "text": [
      "{1, 2, 3, 4, 5, 6}\n"
     ]
    },
    {
     "data": {
      "text/plain": [
       "set"
      ]
     },
     "execution_count": 168,
     "metadata": {},
     "output_type": "execute_result"
    }
   ],
   "source": [
    "set_1 = {1, 2, 3, 4, 5}\n",
    "set_1.update({6})  \n",
    "print(set_1)\n",
    "type(set_1)"
   ]
  },
  {
   "cell_type": "markdown",
   "metadata": {},
   "source": [
    "### Question 3. Remove an element from a set."
   ]
  },
  {
   "cell_type": "code",
   "execution_count": 169,
   "metadata": {},
   "outputs": [
    {
     "name": "stdout",
     "output_type": "stream",
     "text": [
      "{1, 2, 3, 4}\n"
     ]
    },
    {
     "data": {
      "text/plain": [
       "set"
      ]
     },
     "execution_count": 169,
     "metadata": {},
     "output_type": "execute_result"
    }
   ],
   "source": [
    "set_1 = {1, 2, 3, 4, 5}\n",
    "set_1.remove(5)  \n",
    "print(set_1)\n",
    "type(set_1)"
   ]
  },
  {
   "cell_type": "markdown",
   "metadata": {},
   "source": [
    "### Question 4. Check if an element exists in a set."
   ]
  },
  {
   "cell_type": "code",
   "execution_count": 170,
   "metadata": {},
   "outputs": [
    {
     "name": "stdout",
     "output_type": "stream",
     "text": [
      "3 is present in the set \n"
     ]
    }
   ],
   "source": [
    "set_1 = {1, 2, 3, 4, 5}\n",
    "element = 3\n",
    "\n",
    "if element in set_1:\n",
    "    print(f\"{element} is present in the set \")\n",
    "else:\n",
    "    print(f\"{element} is not present in the set\")\n",
    "    "
   ]
  },
  {
   "cell_type": "markdown",
   "metadata": {},
   "source": [
    "### Question 5. Find the length of a set without using the `len()` function."
   ]
  },
  {
   "cell_type": "code",
   "execution_count": 171,
   "metadata": {},
   "outputs": [
    {
     "name": "stdout",
     "output_type": "stream",
     "text": [
      "The length of the set is : 5\n"
     ]
    }
   ],
   "source": [
    "set_1 = {1, 2, 3, 4, 5}\n",
    "\n",
    "count = 0\n",
    "\n",
    "for _ in set_1:\n",
    "    count +=1\n",
    "    \n",
    "print(f\"The length of the set is : {count}\")"
   ]
  },
  {
   "cell_type": "markdown",
   "metadata": {},
   "source": [
    "### Question 6. Clear all elements from a set."
   ]
  },
  {
   "cell_type": "code",
   "execution_count": 172,
   "metadata": {},
   "outputs": [
    {
     "name": "stdout",
     "output_type": "stream",
     "text": [
      "set()\n"
     ]
    }
   ],
   "source": [
    "set_1 = {1, 2, 3, 4, 5}\n",
    "set_1.clear()  # Removes all elements from the set\n",
    "\n",
    "print(set_1) "
   ]
  },
  {
   "cell_type": "markdown",
   "metadata": {},
   "source": [
    "### Question 7. Create a set of even numbers from 1 to 10."
   ]
  },
  {
   "cell_type": "code",
   "execution_count": 173,
   "metadata": {},
   "outputs": [
    {
     "name": "stdout",
     "output_type": "stream",
     "text": [
      "{2, 4, 6, 8, 10}\n"
     ]
    }
   ],
   "source": [
    "even_numbers_set = {x for x in range(1, 11) if x % 2 == 0}\n",
    "\n",
    "print(even_numbers_set)"
   ]
  },
  {
   "cell_type": "markdown",
   "metadata": {},
   "source": [
    "### Question 8. Create a set of odd numbers from 1 to 10."
   ]
  },
  {
   "cell_type": "code",
   "execution_count": 174,
   "metadata": {},
   "outputs": [
    {
     "name": "stdout",
     "output_type": "stream",
     "text": [
      "{1, 3, 5, 7, 9}\n"
     ]
    }
   ],
   "source": [
    "odd_numbers_set = {x for x in range(1, 11) if x % 2 != 0}\n",
    "\n",
    "print(odd_numbers_set)"
   ]
  },
  {
   "cell_type": "markdown",
   "metadata": {},
   "source": [
    "### Question 9. Find the union of two sets."
   ]
  },
  {
   "cell_type": "code",
   "execution_count": 175,
   "metadata": {},
   "outputs": [
    {
     "name": "stdout",
     "output_type": "stream",
     "text": [
      "{1, 2, 3, 4, 5, 6, 7, 8, 9, 10, 11, 13, 14, 15, 16}\n"
     ]
    }
   ],
   "source": [
    "set_1 = {1,2,3,4,5,6,7,8,9,10}\n",
    "set_2 = {2,3,5,6,8,9,11,13,14,15,16}\n",
    "\n",
    "union_set = set_1 | set_2\n",
    "print(union_set)\n"
   ]
  },
  {
   "cell_type": "markdown",
   "metadata": {},
   "source": [
    "### Question 10. Find the intersection of two sets."
   ]
  },
  {
   "cell_type": "code",
   "execution_count": 176,
   "metadata": {},
   "outputs": [
    {
     "name": "stdout",
     "output_type": "stream",
     "text": [
      "{2, 3, 5, 6, 8, 9}\n"
     ]
    }
   ],
   "source": [
    "set_1 = {1,2,3,4,5,6,7,8,9,10}\n",
    "set_2 = {2,3,5,6,8,9,11,13,14,15,16}\n",
    "\n",
    "intersection_set = set_1.intersection(set_2)\n",
    "print(intersection_set)\n"
   ]
  },
  {
   "cell_type": "markdown",
   "metadata": {},
   "source": [
    "### Question 11. Find the difference between two sets."
   ]
  },
  {
   "cell_type": "code",
   "execution_count": 177,
   "metadata": {},
   "outputs": [
    {
     "name": "stdout",
     "output_type": "stream",
     "text": [
      "{1}\n"
     ]
    }
   ],
   "source": [
    "set_1 = {1,2,3,4,5,6,7,8,9,10}\n",
    "set_2 = {2,3,4,5,6,7,8,9,10,11,13,14,15,16}\n",
    "\n",
    "difference_set = set_1.difference(set_2)\n",
    "print(difference_set)"
   ]
  },
  {
   "cell_type": "markdown",
   "metadata": {},
   "source": [
    "### Question 12. Check if a set is a subset of another set."
   ]
  },
  {
   "cell_type": "code",
   "execution_count": 178,
   "metadata": {},
   "outputs": [
    {
     "name": "stdout",
     "output_type": "stream",
     "text": [
      "True\n"
     ]
    }
   ],
   "source": [
    "set_1 = {1,2,3,4,5,6,7,8,9,10}\n",
    "set_2 = {1,2,3,4,5,6,7,8,9,10,11,13,14,15,16}\n",
    "\n",
    "subset = set_1.issubset(set_2)\n",
    "print(subset)"
   ]
  },
  {
   "cell_type": "markdown",
   "metadata": {},
   "source": [
    "### Question 13. Check if a set is a superset of another set."
   ]
  },
  {
   "cell_type": "code",
   "execution_count": 179,
   "metadata": {},
   "outputs": [
    {
     "name": "stdout",
     "output_type": "stream",
     "text": [
      "Set 1 is Superset of Set 2\n"
     ]
    }
   ],
   "source": [
    "set_1 = {1,2,3,4,5,6,7,8,9,10,11,13,14,15,16}\n",
    "set_2 = {1,2,3,4,5,6,7,8,9,10}\n",
    "\n",
    "subset = set_1.issuperset(set_2)\n",
    "if subset:\n",
    "    print(\"Set 1 is Superset of Set 2\")\n",
    "else:\n",
    "    print(\"Set 1 is not a Superset of Set 2\")"
   ]
  },
  {
   "cell_type": "markdown",
   "metadata": {},
   "source": [
    "### Question 14. Create a set from a list."
   ]
  },
  {
   "cell_type": "code",
   "execution_count": 180,
   "metadata": {},
   "outputs": [
    {
     "name": "stdout",
     "output_type": "stream",
     "text": [
      "{1, 2, 3, 4, 5, 6, 7, 79}\n"
     ]
    },
    {
     "data": {
      "text/plain": [
       "set"
      ]
     },
     "execution_count": 180,
     "metadata": {},
     "output_type": "execute_result"
    }
   ],
   "source": [
    "list_1 = [1,2,3,4,4,5,6,7,79]\n",
    "\n",
    "set_1 = set(list_1)\n",
    "print(set_1)\n",
    "type(set_1)\n"
   ]
  },
  {
   "cell_type": "markdown",
   "metadata": {},
   "source": [
    "### Question 15. Convert a set to a list."
   ]
  },
  {
   "cell_type": "code",
   "execution_count": 181,
   "metadata": {},
   "outputs": [
    {
     "name": "stdout",
     "output_type": "stream",
     "text": [
      "[1, 2, 3, 4, 5, 6, 7, 8, 9]\n"
     ]
    },
    {
     "data": {
      "text/plain": [
       "list"
      ]
     },
     "execution_count": 181,
     "metadata": {},
     "output_type": "execute_result"
    }
   ],
   "source": [
    "set_1 = {1,2,3,4,5,6,7,8,9,1}\n",
    "list_1 = list(set_1)\n",
    "print(list_1)\n",
    "type(list_1)"
   ]
  },
  {
   "cell_type": "markdown",
   "metadata": {},
   "source": [
    "### Question 16. Remove a random element from a set."
   ]
  },
  {
   "cell_type": "code",
   "execution_count": 182,
   "metadata": {},
   "outputs": [
    {
     "name": "stdout",
     "output_type": "stream",
     "text": [
      "Removed random element: 2\n",
      "Updated set: {1, 3, 4, 5, 6, 7, 8, 98}\n"
     ]
    }
   ],
   "source": [
    "import random\n",
    "\n",
    "my_set = {1,2,3,4,5,6,7,8,8,98}\n",
    "\n",
    "random_element = random.choice(list(my_set))\n",
    "my_set.remove(random_element)\n",
    "\n",
    "print(\"Removed random element:\", random_element)\n",
    "print(\"Updated set:\", my_set)"
   ]
  },
  {
   "cell_type": "markdown",
   "metadata": {},
   "source": [
    "### Question 17. Pop an element from a set."
   ]
  },
  {
   "cell_type": "code",
   "execution_count": 183,
   "metadata": {},
   "outputs": [
    {
     "name": "stdout",
     "output_type": "stream",
     "text": [
      "Removed Element :  1\n",
      "final_set :  {2, 3, 4, 5, 6, 7, 8, 9}\n"
     ]
    }
   ],
   "source": [
    "set_1 = {1,2,3,4,5,6,7,8,9,1}\n",
    "removed_element = set_1.pop()\n",
    "\n",
    "print(\"Removed Element : \" , removed_element)\n",
    "print(\"final_set : \", set_1)"
   ]
  },
  {
   "cell_type": "markdown",
   "metadata": {},
   "source": [
    "### Question 18. Check if two sets have no elements in common."
   ]
  },
  {
   "cell_type": "code",
   "execution_count": 184,
   "metadata": {},
   "outputs": [
    {
     "name": "stdout",
     "output_type": "stream",
     "text": [
      "The two sets have common element\n"
     ]
    }
   ],
   "source": [
    "set_1 = {1,2,3,4,5,6,7,8,9,10,11,13,14,15,16}\n",
    "set_2 = {1,2,3,4,5,6,7,8,9,10}\n",
    "\n",
    "no_common_element = set_1.isdisjoint(set_2)\n",
    "\n",
    "if no_common_element:\n",
    "    print(\"The two sets do not have any common element\")\n",
    "else:\n",
    "    print(f\"The two sets have common element\")"
   ]
  },
  {
   "cell_type": "markdown",
   "metadata": {},
   "source": [
    "### Question 19. Find the symmetric difference between two sets."
   ]
  },
  {
   "cell_type": "code",
   "execution_count": 185,
   "metadata": {},
   "outputs": [
    {
     "name": "stdout",
     "output_type": "stream",
     "text": [
      "{11, 13, 14, 15, 16}\n"
     ]
    }
   ],
   "source": [
    "set_1 = {1,2,3,4,5,6,7,8,9,10,11,13,14,15,16}\n",
    "set_2 = {1,2,3,4,5,6,7,8,9,10}\n",
    "\n",
    "symmetric_difference_set = set_1.symmetric_difference(set_2)\n",
    "\n",
    "print(symmetric_difference_set)"
   ]
  },
  {
   "cell_type": "markdown",
   "metadata": {},
   "source": [
    "### Question 20. Update a set with elements from another set."
   ]
  },
  {
   "cell_type": "code",
   "execution_count": 186,
   "metadata": {},
   "outputs": [
    {
     "name": "stdout",
     "output_type": "stream",
     "text": [
      "{1, 2, 3, 4, 5, 6, 7, 8, 9, 10, 11, 13, 14, 15, 16}\n"
     ]
    }
   ],
   "source": [
    "set_1 = {1,2,3,4,5,6,7,8,9,10,11,13,14,15,16}\n",
    "set_2 = {1,2,3,4,5,6,7,8,9,10}\n",
    "\n",
    "set_1.update(set_2)\n",
    "print(set_1)"
   ]
  },
  {
   "cell_type": "markdown",
   "metadata": {},
   "source": [
    "### Question 21. Create a set of the first 5 prime numbers."
   ]
  },
  {
   "cell_type": "code",
   "execution_count": 187,
   "metadata": {},
   "outputs": [
    {
     "name": "stdout",
     "output_type": "stream",
     "text": [
      "{2, 3, 5, 7, 11, 13}\n"
     ]
    }
   ],
   "source": [
    "prime_num = lambda x : all(x % i !=0 for i in range (2,x))\n",
    "prime_set = set (filter(prime_num, range(2,15)))\n",
    "print(prime_set)"
   ]
  },
  {
   "cell_type": "markdown",
   "metadata": {},
   "source": [
    "### Question 22. Check if two sets are identical."
   ]
  },
  {
   "cell_type": "code",
   "execution_count": 188,
   "metadata": {},
   "outputs": [
    {
     "name": "stdout",
     "output_type": "stream",
     "text": [
      "The two sets are identical.\n"
     ]
    }
   ],
   "source": [
    "set1 = {1, 2, 3, 4, 5}\n",
    "set2 = {5, 4, 3, 2, 1}\n",
    "\n",
    "if set1 == set2:\n",
    "    print(\"The two sets are identical.\")\n",
    "else:\n",
    "    print(\"The two sets are not identical.\")"
   ]
  },
  {
   "cell_type": "markdown",
   "metadata": {},
   "source": [
    "### Question 23. Create a frozen set."
   ]
  },
  {
   "cell_type": "code",
   "execution_count": 189,
   "metadata": {},
   "outputs": [
    {
     "name": "stdout",
     "output_type": "stream",
     "text": [
      "frozenset({1, 2, 3, 4, 5, 6, 7, 8, 9, 10})\n"
     ]
    }
   ],
   "source": [
    "set_1 = {1,2,3,4,5,6,7,8,9,10}\n",
    "frozen_set = frozenset(set_1)\n",
    "print(frozen_set)\n"
   ]
  },
  {
   "cell_type": "markdown",
   "metadata": {},
   "source": [
    "### Question 24. Check if a set is disjoint with another set."
   ]
  },
  {
   "cell_type": "code",
   "execution_count": 190,
   "metadata": {},
   "outputs": [
    {
     "name": "stdout",
     "output_type": "stream",
     "text": [
      "The sets are disjoint\n"
     ]
    }
   ],
   "source": [
    "set_1 = {1,2,3,4,5,6}\n",
    "set_2 = {7,8,9,10,11,12}\n",
    "\n",
    "if set_1.isdisjoint(set_2):\n",
    "    print(\"The sets are disjoint\")\n",
    "else:\n",
    "    print(\"The sets are not disjoint\")\n",
    "    "
   ]
  },
  {
   "cell_type": "markdown",
   "metadata": {},
   "source": [
    "### Question 25. Create a set of squares of numbers from 1 to 5."
   ]
  },
  {
   "cell_type": "code",
   "execution_count": 191,
   "metadata": {},
   "outputs": [
    {
     "name": "stdout",
     "output_type": "stream",
     "text": [
      "{1, 4, 9, 16, 25}\n"
     ]
    }
   ],
   "source": [
    "squared_set = {x ** 2 for x in range(1,6)}\n",
    "print(squared_set)"
   ]
  },
  {
   "cell_type": "markdown",
   "metadata": {},
   "source": [
    "### Question 26. Filter out all even numbers from a set."
   ]
  },
  {
   "cell_type": "code",
   "execution_count": 192,
   "metadata": {},
   "outputs": [
    {
     "name": "stdout",
     "output_type": "stream",
     "text": [
      "{1, 3, 5, 7, 9}\n"
     ]
    }
   ],
   "source": [
    "set_1 = {1,2,3,4,5,6,7,8,9,10}\n",
    "even_set = {x for x in set_1 if x % 2 != 0}\n",
    "print(even_set)"
   ]
  },
  {
   "cell_type": "markdown",
   "metadata": {},
   "source": [
    "### Question 27. Multiply all elements in a set by 2."
   ]
  },
  {
   "cell_type": "code",
   "execution_count": 193,
   "metadata": {},
   "outputs": [
    {
     "name": "stdout",
     "output_type": "stream",
     "text": [
      "{2, 4, 6, 8, 10, 12, 14, 16, 18, 20}\n"
     ]
    }
   ],
   "source": [
    "set_1 = {1,2,3,4,5,6,7,8,9,10}\n",
    "final_set = {x*2 for x in set_1 }\n",
    "print(final_set)"
   ]
  },
  {
   "cell_type": "markdown",
   "metadata": {},
   "source": [
    "### Question 28. Create a set of random numbers."
   ]
  },
  {
   "cell_type": "code",
   "execution_count": 194,
   "metadata": {},
   "outputs": [
    {
     "name": "stdout",
     "output_type": "stream",
     "text": [
      "{65, 3, 39, 73, 14, 79, 48, 17, 60}\n"
     ]
    }
   ],
   "source": [
    "import random\n",
    "\n",
    "min_value = 1\n",
    "max_value = 100\n",
    "num_random_numbers = 10  \n",
    "\n",
    "random_list = [random.randint(min_value, max_value) for _ in range(num_random_numbers)]\n",
    "\n",
    "random_set = set(random_list)\n",
    "\n",
    "print(random_set)"
   ]
  },
  {
   "cell_type": "markdown",
   "metadata": {},
   "source": [
    "### Question 29. Check if a set is empty."
   ]
  },
  {
   "cell_type": "code",
   "execution_count": 195,
   "metadata": {},
   "outputs": [
    {
     "name": "stdout",
     "output_type": "stream",
     "text": [
      "The set is not empty\n"
     ]
    }
   ],
   "source": [
    "set_1 = {1,2,3,4,5,6,7,8,9,10}\n",
    "\n",
    "if not set_1:\n",
    "    print(\"The set is empty\")\n",
    "else:\n",
    "    print(\"The set is not empty\")"
   ]
  },
  {
   "cell_type": "markdown",
   "metadata": {},
   "source": [
    "### Question 30. Create a nested set (hint: use frozenset)."
   ]
  },
  {
   "cell_type": "code",
   "execution_count": 196,
   "metadata": {},
   "outputs": [
    {
     "name": "stdout",
     "output_type": "stream",
     "text": [
      "{frozenset({1, 2, 3, 4, 5}), frozenset({6, 7, 8, 9, 10})}\n"
     ]
    }
   ],
   "source": [
    "nested_set = {frozenset([1,2,3,4,5]), frozenset([6,7,8,9,10])}\n",
    "\n",
    "print(nested_set)"
   ]
  },
  {
   "cell_type": "markdown",
   "metadata": {},
   "source": [
    "### Question 31. Remove an element from a set using the discard method."
   ]
  },
  {
   "cell_type": "code",
   "execution_count": 197,
   "metadata": {},
   "outputs": [
    {
     "name": "stdout",
     "output_type": "stream",
     "text": [
      "{1, 2, 3, 4, 5, 6, 7, 9, 10}\n"
     ]
    }
   ],
   "source": [
    "set_1 = {1,2,3,4,5,5,6,7,8,9,10}\n",
    "element_to_remove = 8\n",
    "final_set = set_1.discard(element_to_remove)\n",
    "print(set_1)"
   ]
  },
  {
   "cell_type": "markdown",
   "metadata": {},
   "source": [
    "### Question 32. Compare two sets."
   ]
  },
  {
   "cell_type": "code",
   "execution_count": 198,
   "metadata": {},
   "outputs": [
    {
     "name": "stdout",
     "output_type": "stream",
     "text": [
      "The sets are not similar\n"
     ]
    }
   ],
   "source": [
    "set_1 = {1,2,3,4,5,6,7}\n",
    "set_2 = {8,9,10,11,12,13}\n",
    "\n",
    "if set_1==set_2:\n",
    "    print(\"The sets are similar\")\n",
    "else:\n",
    "    print(\"The sets are not similar\")"
   ]
  },
  {
   "cell_type": "markdown",
   "metadata": {},
   "source": [
    "### Question 33. Create a set from a string."
   ]
  },
  {
   "cell_type": "code",
   "execution_count": 199,
   "metadata": {},
   "outputs": [
    {
     "name": "stdout",
     "output_type": "stream",
     "text": [
      "{'My Name is abhimanyu SHARMA '}\n"
     ]
    }
   ],
   "source": [
    "string_1 = [\"My Name is abhimanyu SHARMA \" ]\n",
    "Set_new = set(string_1)\n",
    "print(Set_new)"
   ]
  },
  {
   "cell_type": "markdown",
   "metadata": {},
   "source": [
    "### Question 34. Convert a set of strings to a set of integers."
   ]
  },
  {
   "cell_type": "code",
   "execution_count": 200,
   "metadata": {},
   "outputs": [
    {
     "name": "stdout",
     "output_type": "stream",
     "text": [
      "{1, 2, 3, 4, 5, 6, 7}\n"
     ]
    }
   ],
   "source": [
    "string_set = {\"1\",\"2\",\"3\",\"4\",\"5\",\"6\",\"7\"}\n",
    "int_set = {int(string) for string in string_set}\n",
    "print(int_set)"
   ]
  },
  {
   "cell_type": "markdown",
   "metadata": {},
   "source": [
    "### Question 35. Convert a set of integers to a set of strings."
   ]
  },
  {
   "cell_type": "code",
   "execution_count": 201,
   "metadata": {},
   "outputs": [
    {
     "name": "stdout",
     "output_type": "stream",
     "text": [
      "{'5', '2', '1', '3', '6', '7', '4', '10', '8', '9'}\n"
     ]
    }
   ],
   "source": [
    "int_set = {1,2,3,4,5,6,7,8,9,10}\n",
    "\n",
    "string_set = set()\n",
    "\n",
    "for i in int_set:\n",
    "    string_set.add(str(i))\n",
    "print(string_set)"
   ]
  },
  {
   "cell_type": "markdown",
   "metadata": {},
   "source": [
    "### Question 36. Create a set from a tuple."
   ]
  },
  {
   "cell_type": "code",
   "execution_count": 202,
   "metadata": {},
   "outputs": [
    {
     "name": "stdout",
     "output_type": "stream",
     "text": [
      "{1, 2, 3, 4, 5, 6}\n"
     ]
    },
    {
     "data": {
      "text/plain": [
       "set"
      ]
     },
     "execution_count": 202,
     "metadata": {},
     "output_type": "execute_result"
    }
   ],
   "source": [
    "tuple_1= (1,2,3,4,5,6)\n",
    "set_1 = set(tuple_1)\n",
    "print(set_1)\n",
    "type(set_1)"
   ]
  },
  {
   "cell_type": "markdown",
   "metadata": {},
   "source": [
    "### Question 37. Convert a set to a tuple."
   ]
  },
  {
   "cell_type": "code",
   "execution_count": 203,
   "metadata": {},
   "outputs": [
    {
     "name": "stdout",
     "output_type": "stream",
     "text": [
      "(1, 2, 3, 4, 5, 6, 7, 8, 9, 10)\n"
     ]
    },
    {
     "data": {
      "text/plain": [
       "tuple"
      ]
     },
     "execution_count": 203,
     "metadata": {},
     "output_type": "execute_result"
    }
   ],
   "source": [
    "set_1 = {1,2,3,4,5,6,7,8,9,10}\n",
    "tuple_1 = tuple(set_1)\n",
    "print(tuple_1)\n",
    "type(tuple_1)"
   ]
  },
  {
   "cell_type": "markdown",
   "metadata": {},
   "source": [
    "### Question 38. Find the maximum value in a set."
   ]
  },
  {
   "cell_type": "code",
   "execution_count": 204,
   "metadata": {},
   "outputs": [
    {
     "name": "stdout",
     "output_type": "stream",
     "text": [
      "10\n"
     ]
    }
   ],
   "source": [
    "set_1 = {1,2,3,4,5,6,7,8,9,10}\n",
    "\n",
    "max_set = max(set_1)\n",
    "print(max_set)"
   ]
  },
  {
   "cell_type": "markdown",
   "metadata": {},
   "source": [
    "### Question 39. Find the minimum value in a set."
   ]
  },
  {
   "cell_type": "code",
   "execution_count": 205,
   "metadata": {},
   "outputs": [
    {
     "name": "stdout",
     "output_type": "stream",
     "text": [
      "1\n"
     ]
    }
   ],
   "source": [
    "set_1 = {1,2,3,4,5,6,7,8,9,10}\n",
    "\n",
    "min_set = min(set_1)\n",
    "print(min_set)"
   ]
  },
  {
   "cell_type": "markdown",
   "metadata": {},
   "source": [
    "### Question 40. Create a set from user input."
   ]
  },
  {
   "cell_type": "code",
   "execution_count": 206,
   "metadata": {},
   "outputs": [
    {
     "name": "stdout",
     "output_type": "stream",
     "text": [
      "Please enter the list of elements with spaces : hello, my name is abhimanyu sharma\n",
      "{'abhimanyu', 'my', 'is', 'hello,', 'sharma', 'name'}\n"
     ]
    }
   ],
   "source": [
    "user_input = input(\"Please enter the list of elements with spaces : \")\n",
    "input_element = user_input.split()\n",
    "\n",
    "user_set = set(input_element)\n",
    "print(user_set)"
   ]
  },
  {
   "cell_type": "markdown",
   "metadata": {},
   "source": [
    "### Question 41. Check if the intersection of two sets is empty."
   ]
  },
  {
   "cell_type": "code",
   "execution_count": 207,
   "metadata": {},
   "outputs": [
    {
     "name": "stdout",
     "output_type": "stream",
     "text": [
      "The intersections of the sets is empty\n"
     ]
    }
   ],
   "source": [
    "set_1 = {1,2,3,4,5,6}\n",
    "set_2 = {7,8,9,10,11,12}\n",
    "\n",
    "intersection = set_1.intersection(set_2)\n",
    "\n",
    "if len(intersection) == 0:\n",
    "    print(\"The intersections of the sets is empty\")\n",
    "else:\n",
    "    print(\"The intersection of the sets is not empty\")"
   ]
  },
  {
   "cell_type": "markdown",
   "metadata": {},
   "source": [
    "### Question 42. Create a set of the first 5 Fibonacci numbers."
   ]
  },
  {
   "cell_type": "code",
   "execution_count": 208,
   "metadata": {},
   "outputs": [
    {
     "name": "stdout",
     "output_type": "stream",
     "text": [
      "{0, 1, 2, 3, 5}\n"
     ]
    }
   ],
   "source": [
    "fibonacci_set = set()\n",
    "a, b = 0, 1\n",
    "\n",
    "for _ in range(6):\n",
    "    fibonacci_set.add(a)\n",
    "    a, b = b, a + b\n",
    "\n",
    "print(fibonacci_set)"
   ]
  },
  {
   "cell_type": "markdown",
   "metadata": {},
   "source": [
    "### Question 43. Remove duplicates from a list using sets."
   ]
  },
  {
   "cell_type": "code",
   "execution_count": 209,
   "metadata": {},
   "outputs": [
    {
     "name": "stdout",
     "output_type": "stream",
     "text": [
      "{1, 2, 3, 4, 5, 6}\n"
     ]
    }
   ],
   "source": [
    "list_1 = [1,2,3,4,4,5,6,3,5,6]\n",
    "\n",
    "unique_set=set(list_1)\n",
    "\n",
    "print(unique_set)"
   ]
  },
  {
   "cell_type": "markdown",
   "metadata": {},
   "source": [
    "### Question 44. Check if two sets have the same elements, regardless of their count."
   ]
  },
  {
   "cell_type": "code",
   "execution_count": 210,
   "metadata": {},
   "outputs": [
    {
     "name": "stdout",
     "output_type": "stream",
     "text": [
      "The sets have the same elements.\n"
     ]
    }
   ],
   "source": [
    "set1 = {1, 2, 3, 4}\n",
    "set2 = {4, 3, 2, 1}\n",
    "\n",
    "if set1 == set2:\n",
    "    print(\"The sets have the same elements.\")\n",
    "else:\n",
    "    print(\"The sets do not have the same elements.\")"
   ]
  },
  {
   "cell_type": "markdown",
   "metadata": {},
   "source": [
    "### Question 45. Create a set of the first `n` powers of 2."
   ]
  },
  {
   "cell_type": "code",
   "execution_count": 211,
   "metadata": {},
   "outputs": [
    {
     "name": "stdout",
     "output_type": "stream",
     "text": [
      "{32, 1, 2, 64, 4, 128, 256, 512, 8, 16}\n"
     ]
    }
   ],
   "source": [
    "n = 10\n",
    "\n",
    "final_set = {2**i for i in range(n)}\n",
    "print(final_set)"
   ]
  },
  {
   "cell_type": "markdown",
   "metadata": {},
   "source": [
    "### Question 46. Find the common elements between a set and a list."
   ]
  },
  {
   "cell_type": "code",
   "execution_count": 212,
   "metadata": {},
   "outputs": [
    {
     "name": "stdout",
     "output_type": "stream",
     "text": [
      "[3, 4, 5]\n"
     ]
    }
   ],
   "source": [
    "set_1 = {1, 2, 3, 4, 5}\n",
    "list_1 = [3, 4, 5, 6, 7]\n",
    "common_elements = list(set(set_1) & set(list_1))\n",
    "print(common_elements)"
   ]
  },
  {
   "cell_type": "markdown",
   "metadata": {},
   "source": [
    "### Question 47. Create a set of the first `n` triangular numbers."
   ]
  },
  {
   "cell_type": "code",
   "execution_count": 213,
   "metadata": {},
   "outputs": [
    {
     "name": "stdout",
     "output_type": "stream",
     "text": [
      "Please enter the number for triangular numbers : 10\n",
      "{1, 3, 36, 6, 10, 45, 15, 21, 55, 28}\n"
     ]
    }
   ],
   "source": [
    "def triangular_number (n):\n",
    "    tri_num = set()\n",
    "    for i in range(1 , n+1 ):\n",
    "        triangular_num = (i * (i+1))//2\n",
    "        tri_num.add(triangular_num)\n",
    "    return tri_num\n",
    "\n",
    "n= int(input(\"Please enter the number for triangular numbers : \"))\n",
    "tri_set = triangular_number(n)\n",
    "print(tri_set)\n",
    "    "
   ]
  },
  {
   "cell_type": "markdown",
   "metadata": {},
   "source": [
    "### Question 48. Check if a set contains another set as a subset."
   ]
  },
  {
   "cell_type": "code",
   "execution_count": 214,
   "metadata": {},
   "outputs": [
    {
     "name": "stdout",
     "output_type": "stream",
     "text": [
      "Set_2 is the subset of set_1\n"
     ]
    }
   ],
   "source": [
    "set_1 = {1,2,3,4,5,6,7,8,9,10}\n",
    "set_2 = {5,6,7,8}\n",
    "\n",
    "subset = set_2.issubset(set_1)\n",
    "\n",
    "if subset:\n",
    "    print(\"Set_2 is the subset of set_1\")\n",
    "else:\n",
    "    print(\"Set_2 is not the subset of set_1\")"
   ]
  },
  {
   "cell_type": "markdown",
   "metadata": {},
   "source": [
    "### Question 49. Create a set of alternating 1s and 0s of length `n`."
   ]
  },
  {
   "cell_type": "code",
   "execution_count": 215,
   "metadata": {},
   "outputs": [
    {
     "name": "stdout",
     "output_type": "stream",
     "text": [
      "Please enter the number to create the set: 10\n",
      "{0, 1}\n"
     ]
    }
   ],
   "source": [
    "def alt_set(n):\n",
    "    alternating_set = set()\n",
    "    for i in range(n):\n",
    "        if i % 2 == 0:\n",
    "            alternating_set.add(1)\n",
    "        else:\n",
    "            alternating_set.add(0)\n",
    "            \n",
    "    return alternating_set\n",
    "\n",
    "n = int(input(\"Please enter the number to create the set: \"))\n",
    "result = alt_set(n)\n",
    "\n",
    "print(result)"
   ]
  },
  {
   "cell_type": "markdown",
   "metadata": {},
   "source": [
    "### Question 50. Merge multiple sets into one."
   ]
  },
  {
   "cell_type": "code",
   "execution_count": 216,
   "metadata": {},
   "outputs": [
    {
     "name": "stdout",
     "output_type": "stream",
     "text": [
      "{1, 2, 3, 4, 5, 6, 7, 8.9, 10, 11, 12, 14, 15, 16, 17, 18, 19, 20}\n"
     ]
    }
   ],
   "source": [
    "set_1 = {1,2,3,4,5,6,7}\n",
    "set_2 = {8.9,10,11,12,14,15}\n",
    "set_3= {16,17,18,19,20}\n",
    "\n",
    "merged_set = set_1 | set_2 | set_3 \n",
    "\n",
    "print(merged_set)"
   ]
  },
  {
   "cell_type": "code",
   "execution_count": null,
   "metadata": {},
   "outputs": [],
   "source": []
  }
 ],
 "metadata": {
  "kernelspec": {
   "display_name": "Python 3",
   "language": "python",
   "name": "python3"
  },
  "language_info": {
   "codemirror_mode": {
    "name": "ipython",
    "version": 3
   },
   "file_extension": ".py",
   "mimetype": "text/x-python",
   "name": "python",
   "nbconvert_exporter": "python",
   "pygments_lexer": "ipython3",
   "version": "3.8.5"
  }
 },
 "nbformat": 4,
 "nbformat_minor": 4
}
